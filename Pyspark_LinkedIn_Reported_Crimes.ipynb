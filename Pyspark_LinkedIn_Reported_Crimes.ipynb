{
  "nbformat": 4,
  "nbformat_minor": 0,
  "metadata": {
    "colab": {
      "name": "Pyspark_LinkedIn_Reported_Crimes.ipynb",
      "provenance": [],
      "collapsed_sections": []
    },
    "kernelspec": {
      "name": "python3",
      "display_name": "Python 3"
    },
    "language_info": {
      "name": "python"
    }
  },
  "cells": [
    {
      "cell_type": "markdown",
      "metadata": {
        "id": "6AvP25HGW3M8"
      },
      "source": [
        "## **Install and start PySpark Session**"
      ]
    },
    {
      "cell_type": "code",
      "metadata": {
        "colab": {
          "base_uri": "https://localhost:8080/",
          "height": 0
        },
        "id": "vuAt5Hl4XEd2",
        "outputId": "024b7c2b-31cb-4cb0-98a7-168d72b54883"
      },
      "source": [
        "!pip install pyspark "
      ],
      "execution_count": 1,
      "outputs": [
        {
          "output_type": "stream",
          "text": [
            "Collecting pyspark\n",
            "\u001b[?25l  Downloading https://files.pythonhosted.org/packages/89/db/e18cfd78e408de957821ec5ca56de1250645b05f8523d169803d8df35a64/pyspark-3.1.2.tar.gz (212.4MB)\n",
            "\u001b[K     |████████████████████████████████| 212.4MB 69kB/s \n",
            "\u001b[?25hCollecting py4j==0.10.9\n",
            "\u001b[?25l  Downloading https://files.pythonhosted.org/packages/9e/b6/6a4fb90cd235dc8e265a6a2067f2a2c99f0d91787f06aca4bcf7c23f3f80/py4j-0.10.9-py2.py3-none-any.whl (198kB)\n",
            "\u001b[K     |████████████████████████████████| 204kB 17.8MB/s \n",
            "\u001b[?25hBuilding wheels for collected packages: pyspark\n",
            "  Building wheel for pyspark (setup.py) ... \u001b[?25l\u001b[?25hdone\n",
            "  Created wheel for pyspark: filename=pyspark-3.1.2-py2.py3-none-any.whl size=212880768 sha256=1aefd8a3df15f9015411f4e9b15f7756573d39c0b4bdb90eb1c830a6ab6ca54b\n",
            "  Stored in directory: /root/.cache/pip/wheels/40/1b/2c/30f43be2627857ab80062bef1527c0128f7b4070b6b2d02139\n",
            "Successfully built pyspark\n",
            "Installing collected packages: py4j, pyspark\n",
            "Successfully installed py4j-0.10.9 pyspark-3.1.2\n"
          ],
          "name": "stdout"
        }
      ]
    },
    {
      "cell_type": "code",
      "metadata": {
        "id": "Z9NRWojMXEhU"
      },
      "source": [
        "from pyspark.sql import SparkSession\n",
        "from pyspark.sql.functions import to_timestamp, col, lit\n",
        "spark = SparkSession.builder.appName('Practise_1').getOrCreate()"
      ],
      "execution_count": 2,
      "outputs": []
    },
    {
      "cell_type": "markdown",
      "metadata": {
        "id": "L3AvG_plcbnY"
      },
      "source": [
        "# **Fiter data after transforming the Date columns into timestamps** "
      ]
    },
    {
      "cell_type": "code",
      "metadata": {
        "colab": {
          "base_uri": "https://localhost:8080/"
        },
        "id": "IgVBO0N7W90V",
        "outputId": "e7cc4a77-68a1-47ca-e523-e6d113a7f53f"
      },
      "source": [
        "rc_data = spark.read.csv('/content/drive/MyDrive/Colab Notebooks/PySpark/Reported_Crimes.csv', header = True).withColumn('Date',to_timestamp(col('Date'),'MM/dd/yyyy hh:mm:ss a')).withColumn('Updated On',to_timestamp(col('Updated On'),'MM/dd/yyyy hh:mm:ss a')).filter(col('Date') <= lit('2018-11-13'))\n",
        "rc_data.show(5)\n"
      ],
      "execution_count": 71,
      "outputs": [
        {
          "output_type": "stream",
          "text": [
            "+--------+-----------+-------------------+--------------------+----+------------+--------------------+--------------------+------+--------+----+--------+----+--------------+--------+------------+------------+----+-------------------+------------+-------------+--------------------+\n",
            "|      ID|Case Number|               Date|               Block|IUCR|Primary Type|         Description|Location Description|Arrest|Domestic|Beat|District|Ward|Community Area|FBI Code|X Coordinate|Y Coordinate|Year|         Updated On|    Latitude|    Longitude|            Location|\n",
            "+--------+-----------+-------------------+--------------------+----+------------+--------------------+--------------------+------+--------+----+--------+----+--------------+--------+------------+------------+----+-------------------+------------+-------------+--------------------+\n",
            "|10224738|   HY411648|2015-09-05 13:30:00|     043XX S WOOD ST|0486|     BATTERY|DOMESTIC BATTERY ...|           RESIDENCE| false|    true|0924|     009|  12|            61|     08B|     1165074|     1875917|2015|2018-02-10 15:50:01|41.815117282|-87.669999562|(41.815117282, -8...|\n",
            "|10224739|   HY411615|2015-09-04 11:30:00| 008XX N CENTRAL AVE|0870|       THEFT|      POCKET-PICKING|             CTA BUS| false|   false|1511|     015|  29|            25|      06|     1138875|     1904869|2015|2018-02-10 15:50:01|41.895080471|-87.765400451|(41.895080471, -8...|\n",
            "|11646166|   JC213529|2018-09-01 00:01:00|082XX S INGLESIDE...|0810|       THEFT|           OVER $500|           RESIDENCE| false|    true|0631|     006|   8|            44|      06|        null|        null|2018|2019-04-06 16:04:43|        null|         null|                null|\n",
            "|10224740|   HY411595|2015-09-05 12:45:00|   035XX W BARRY AVE|2023|   NARCOTICS|POSS: HEROIN(BRN/...|            SIDEWALK|  true|   false|1412|     014|  35|            21|      18|     1152037|     1920384|2015|2018-02-10 15:50:01|41.937405765|-87.716649687|(41.937405765, -8...|\n",
            "|10224741|   HY411610|2015-09-05 13:00:00| 0000X N LARAMIE AVE|0560|     ASSAULT|              SIMPLE|           APARTMENT| false|    true|1522|     015|  28|            25|     08A|     1141706|     1900086|2015|2018-02-10 15:50:01|41.881903443|-87.755121152|(41.881903443, -8...|\n",
            "+--------+-----------+-------------------+--------------------+----+------------+--------------------+--------------------+------+--------+----+--------+----+--------------+--------+------------+------------+----+-------------------+------------+-------------+--------------------+\n",
            "only showing top 5 rows\n",
            "\n"
          ],
          "name": "stdout"
        }
      ]
    },
    {
      "cell_type": "code",
      "metadata": {
        "colab": {
          "base_uri": "https://localhost:8080/"
        },
        "id": "EZAcMvMG9fOU",
        "outputId": "cc6e8152-5f4f-421d-dadb-3492ca82dccf"
      },
      "source": [
        "rc_data.orderBy('Date', ascending = False).show(5)"
      ],
      "execution_count": null,
      "outputs": [
        {
          "output_type": "stream",
          "text": [
            "+--------+-----------+-------------------+--------------------+----+------------------+--------------------+--------------------+------+--------+----+--------+----+--------------+--------+------------+------------+----+-------------------+--------+---------+--------+\n",
            "|      ID|Case Number|               Date|               Block|IUCR|      Primary Type|         Description|Location Description|Arrest|Domestic|Beat|District|Ward|Community Area|FBI Code|X Coordinate|Y Coordinate|Year|         Updated On|Latitude|Longitude|Location|\n",
            "+--------+-----------+-------------------+--------------------+----+------------------+--------------------+--------------------+------+--------+----+--------+----+--------------+--------+------------+------------+----+-------------------+--------+---------+--------+\n",
            "|11719076|   JC296323|2018-11-12 21:00:00|     029XX W 25TH ST|2825|     OTHER OFFENSE|HARASSMENT BY TEL...|           RESIDENCE| false|   false|1033|     010|  12|            30|      26|        null|        null|2018|2019-06-12 16:13:52|    null|     null|    null|\n",
            "|11609807|   JC168709|2018-11-12 15:15:00|   005XX W MONROE ST|0810|             THEFT|           OVER $500|COMMERCIAL / BUSI...| false|   false|0121|     001|  42|            28|      06|        null|        null|2018|2019-03-01 16:09:34|    null|     null|    null|\n",
            "|11625698|   JC184864|2018-11-12 15:00:00|078XX S WINCHESTE...|2826|     OTHER OFFENSE|HARASSMENT BY ELE...|           RESIDENCE| false|   false|0611|     006|  17|            71|      26|        null|        null|2018|2019-03-18 16:18:01|    null|     null|    null|\n",
            "|11618907|   JC180543|2018-11-12 14:10:00| 031XX N SHERIDAN RD|1153|DECEPTIVE PRACTICE|FINANCIAL IDENTIT...|               OTHER| false|   false|1934|     019|  44|             6|      11|        null|        null|2018|2019-03-11 16:05:52|    null|     null|    null|\n",
            "|11632500|   JC196638|2018-11-12 10:00:00| 028XX W GIDDINGS ST|1154|DECEPTIVE PRACTICE|FINANCIAL IDENTIT...|                null| false|   false|1713|     017|  33|            14|      11|        null|        null|2018|2019-03-24 16:07:05|    null|     null|    null|\n",
            "+--------+-----------+-------------------+--------------------+----+------------------+--------------------+--------------------+------+--------+----+--------+----+--------------+--------+------------+------------+----+-------------------+--------+---------+--------+\n",
            "only showing top 5 rows\n",
            "\n"
          ],
          "name": "stdout"
        }
      ]
    },
    {
      "cell_type": "markdown",
      "metadata": {
        "id": "WFDH8Ij5gaa2"
      },
      "source": [
        "**Check the outcome**"
      ]
    },
    {
      "cell_type": "code",
      "metadata": {
        "colab": {
          "base_uri": "https://localhost:8080/"
        },
        "id": "npM8_Y6ybnxb",
        "outputId": "682dc8af-8976-442b-a4fb-1bbb6c5a574f"
      },
      "source": [
        "rc_data.printSchema()"
      ],
      "execution_count": null,
      "outputs": [
        {
          "output_type": "stream",
          "text": [
            "root\n",
            " |-- ID: string (nullable = true)\n",
            " |-- Case Number: string (nullable = true)\n",
            " |-- Date: timestamp (nullable = true)\n",
            " |-- Block: string (nullable = true)\n",
            " |-- IUCR: string (nullable = true)\n",
            " |-- Primary Type: string (nullable = true)\n",
            " |-- Description: string (nullable = true)\n",
            " |-- Location Description: string (nullable = true)\n",
            " |-- Arrest: string (nullable = true)\n",
            " |-- Domestic: string (nullable = true)\n",
            " |-- Beat: string (nullable = true)\n",
            " |-- District: string (nullable = true)\n",
            " |-- Ward: string (nullable = true)\n",
            " |-- Community Area: string (nullable = true)\n",
            " |-- FBI Code: string (nullable = true)\n",
            " |-- X Coordinate: string (nullable = true)\n",
            " |-- Y Coordinate: string (nullable = true)\n",
            " |-- Year: string (nullable = true)\n",
            " |-- Updated On: timestamp (nullable = true)\n",
            " |-- Latitude: string (nullable = true)\n",
            " |-- Longitude: string (nullable = true)\n",
            " |-- Location: string (nullable = true)\n",
            "\n"
          ],
          "name": "stdout"
        }
      ]
    },
    {
      "cell_type": "markdown",
      "metadata": {
        "id": "qYgWTGs5gf5P"
      },
      "source": [
        "## **Schemas**"
      ]
    },
    {
      "cell_type": "code",
      "metadata": {
        "id": "1suX7uPUcDuU"
      },
      "source": [
        "## import specific modules for the Schemas\n",
        "from pyspark.sql.types import StructType,StructField, StringType, IntegerType, TimestampType,BooleanType, DoubleType, IntegerType"
      ],
      "execution_count": null,
      "outputs": []
    },
    {
      "cell_type": "code",
      "metadata": {
        "id": "ghAu46xFjCHn"
      },
      "source": [
        "## One way to do\n",
        "StructType([\n",
        "            StructField('ID',StringType,True),\n",
        "            StructField('Case Number',StringType,True),\n",
        "            StructField('Date',TimestampType,True),\n",
        "            StructField('ID',StringType,True),\n",
        "            StructField('ID',StringType,True),\n",
        "            .....\n",
        "            ......\n",
        "])"
      ],
      "execution_count": null,
      "outputs": []
    },
    {
      "cell_type": "code",
      "metadata": {
        "id": "_j3mh83hk3lV"
      },
      "source": [
        "##Another more simpler way\n",
        "'''\n",
        "labels = [\n",
        "  ('ID',StringType()),\n",
        "  ('Case Number',StringType()),\n",
        "  ('Date',TimestampType()),\n",
        "  ('Block',StringType()),\n",
        "  ('IUCR',StringType()),\n",
        "  ('Primary Type',StringType()),\n",
        "  ('Description',StringType()),\n",
        "  ('Location Description',StringType()),\n",
        "  ('Arrest',StringType()),\n",
        "  ('Domestic',BooleanType()),\n",
        "  ('Beat',StringType()),\n",
        "  ('District',StringType()),\n",
        "  ('Ward',StringType()),\n",
        "  ('Community Area',StringType()),\n",
        "  ('FBI Code',StringType()),\n",
        "  ('X Coordinate',StringType()),\n",
        "  ('Y Coordinate',StringType()),\n",
        "  ('Year',StringType()),\n",
        "  ('Updated On',TimestampType()),\n",
        "  ('Latitude',DoubleType()),\n",
        "  ('Longitude',DoubleType()),\n",
        "  ('Location',StringType())\n",
        "]\n",
        "'''"
      ],
      "execution_count": null,
      "outputs": []
    },
    {
      "cell_type": "code",
      "metadata": {
        "colab": {
          "base_uri": "https://localhost:8080/"
        },
        "id": "0JcZtIgMm5RI",
        "outputId": "23bc2bf5-91a6-4d44-d6c4-e5bf28c94054"
      },
      "source": [
        "'''\n",
        "schema =  StructType([StructField(x[0],x[1],True) for x in labels])\n",
        "print(schema)\n",
        "'''"
      ],
      "execution_count": null,
      "outputs": [
        {
          "output_type": "stream",
          "text": [
            "StructType(List(StructField(ID,StringType,true),StructField(Case Number,StringType,true),StructField(Date,TimestampType,true),StructField(Block,StringType,true),StructField(IUCR,StringType,true),StructField(Primary Type,StringType,true),StructField(Description,StringType,true),StructField(Location Description,StringType,true),StructField(Arrest,StringType,true),StructField(Domestic,BooleanType,true),StructField(Beat,StringType,true),StructField(District,StringType,true),StructField(Ward,StringType,true),StructField(Community Area,StringType,true),StructField(FBI Code,StringType,true),StructField(X Coordinate,StringType,true),StructField(Y Coordinate,StringType,true),StructField(Year,StringType,true),StructField(Updated On,TimestampType,true),StructField(Latitude,DoubleType,true),StructField(Longitude,DoubleType,true),StructField(Location,StringType,true)))\n"
          ],
          "name": "stdout"
        }
      ]
    },
    {
      "cell_type": "code",
      "metadata": {
        "colab": {
          "base_uri": "https://localhost:8080/"
        },
        "id": "124-4juQndP_",
        "outputId": "d8b7594d-f427-4391-e4a3-c866a7e661ee"
      },
      "source": [
        "'''\n",
        "rc_data = spark.read.csv('/content/drive/MyDrive/Colab Notebooks/PySpark/Reported_Crimes.csv', header = True,schema = schema).filter(col('Date') <= lit('2018-11-11'))\n",
        "rc_data.printSchema()\n",
        "'''"
      ],
      "execution_count": null,
      "outputs": [
        {
          "output_type": "stream",
          "text": [
            "root\n",
            " |-- ID: string (nullable = true)\n",
            " |-- Case Number: string (nullable = true)\n",
            " |-- Date: timestamp (nullable = true)\n",
            " |-- Block: string (nullable = true)\n",
            " |-- IUCR: string (nullable = true)\n",
            " |-- Primary Type: string (nullable = true)\n",
            " |-- Description: string (nullable = true)\n",
            " |-- Location Description: string (nullable = true)\n",
            " |-- Arrest: string (nullable = true)\n",
            " |-- Domestic: boolean (nullable = true)\n",
            " |-- Beat: string (nullable = true)\n",
            " |-- District: string (nullable = true)\n",
            " |-- Ward: string (nullable = true)\n",
            " |-- Community Area: string (nullable = true)\n",
            " |-- FBI Code: string (nullable = true)\n",
            " |-- X Coordinate: string (nullable = true)\n",
            " |-- Y Coordinate: string (nullable = true)\n",
            " |-- Year: string (nullable = true)\n",
            " |-- Updated On: timestamp (nullable = true)\n",
            " |-- Latitude: double (nullable = true)\n",
            " |-- Longitude: double (nullable = true)\n",
            " |-- Location: string (nullable = true)\n",
            "\n"
          ],
          "name": "stdout"
        }
      ]
    },
    {
      "cell_type": "markdown",
      "metadata": {
        "id": "OV6m4n1YpsG3"
      },
      "source": [
        "**PySpark is very fussy about this data types**"
      ]
    },
    {
      "cell_type": "code",
      "metadata": {
        "colab": {
          "base_uri": "https://localhost:8080/"
        },
        "id": "5558io3coQsZ",
        "outputId": "367e091e-c395-414d-a499-7bbd7397cff4"
      },
      "source": [
        "'''\n",
        "rc_data.show() ### All of them become Null showing that some of the datatypes are not what we expected.\n",
        "'''"
      ],
      "execution_count": null,
      "outputs": [
        {
          "output_type": "stream",
          "text": [
            "+---+-----------+----+-----+----+------------+-----------+--------------------+------+--------+----+--------+----+--------------+--------+------------+------------+----+----------+--------+---------+--------+\n",
            "| ID|Case Number|Date|Block|IUCR|Primary Type|Description|Location Description|Arrest|Domestic|Beat|District|Ward|Community Area|FBI Code|X Coordinate|Y Coordinate|Year|Updated On|Latitude|Longitude|Location|\n",
            "+---+-----------+----+-----+----+------------+-----------+--------------------+------+--------+----+--------+----+--------------+--------+------------+------------+----+----------+--------+---------+--------+\n",
            "+---+-----------+----+-----+----+------------+-----------+--------------------+------+--------+----+--------+----+--------------+--------+------------+------------+----+----------+--------+---------+--------+\n",
            "\n"
          ],
          "name": "stdout"
        }
      ]
    },
    {
      "cell_type": "markdown",
      "metadata": {
        "id": "RKZZvDsk2KF3"
      },
      "source": [
        "# **Working with columns**"
      ]
    },
    {
      "cell_type": "code",
      "metadata": {
        "colab": {
          "base_uri": "https://localhost:8080/"
        },
        "id": "f3b_Cshb2HbQ",
        "outputId": "c18124c0-89b5-4a18-8a10-c351215688f2"
      },
      "source": [
        "## Show first 5 for a particular column\n",
        "rc_data.select('ID','Case Number', 'Date').show(5)"
      ],
      "execution_count": null,
      "outputs": [
        {
          "output_type": "stream",
          "text": [
            "+--------+-----------+-------------------+\n",
            "|      ID|Case Number|               Date|\n",
            "+--------+-----------+-------------------+\n",
            "|10224738|   HY411648|2015-09-05 13:30:00|\n",
            "|10224739|   HY411615|2015-09-04 11:30:00|\n",
            "|11646166|   JC213529|2018-09-01 00:01:00|\n",
            "|10224740|   HY411595|2015-09-05 12:45:00|\n",
            "|10224741|   HY411610|2015-09-05 13:00:00|\n",
            "+--------+-----------+-------------------+\n",
            "only showing top 5 rows\n",
            "\n"
          ],
          "name": "stdout"
        }
      ]
    },
    {
      "cell_type": "code",
      "metadata": {
        "colab": {
          "base_uri": "https://localhost:8080/"
        },
        "id": "wI9YSKuAotJQ",
        "outputId": "8dd457cb-3472-4208-bf9e-3721d0701517"
      },
      "source": [
        "# To add or transform a column\n",
        "rc_data.withColumn('ID_new', 1+rc_data.ID).show(5)"
      ],
      "execution_count": null,
      "outputs": [
        {
          "output_type": "stream",
          "text": [
            "+--------+-----------+-------------------+--------------------+----+------------+--------------------+--------------------+------+--------+----+--------+----+--------------+--------+------------+------------+----+-------------------+------------+-------------+--------------------+-----------+\n",
            "|      ID|Case Number|               Date|               Block|IUCR|Primary Type|         Description|Location Description|Arrest|Domestic|Beat|District|Ward|Community Area|FBI Code|X Coordinate|Y Coordinate|Year|         Updated On|    Latitude|    Longitude|            Location|     ID_new|\n",
            "+--------+-----------+-------------------+--------------------+----+------------+--------------------+--------------------+------+--------+----+--------+----+--------------+--------+------------+------------+----+-------------------+------------+-------------+--------------------+-----------+\n",
            "|10224738|   HY411648|2015-09-05 13:30:00|     043XX S WOOD ST|0486|     BATTERY|DOMESTIC BATTERY ...|           RESIDENCE| false|    true|0924|     009|  12|            61|     08B|     1165074|     1875917|2015|2018-02-10 15:50:01|41.815117282|-87.669999562|(41.815117282, -8...|1.0224739E7|\n",
            "|10224739|   HY411615|2015-09-04 11:30:00| 008XX N CENTRAL AVE|0870|       THEFT|      POCKET-PICKING|             CTA BUS| false|   false|1511|     015|  29|            25|      06|     1138875|     1904869|2015|2018-02-10 15:50:01|41.895080471|-87.765400451|(41.895080471, -8...| 1.022474E7|\n",
            "|11646166|   JC213529|2018-09-01 00:01:00|082XX S INGLESIDE...|0810|       THEFT|           OVER $500|           RESIDENCE| false|    true|0631|     006|   8|            44|      06|        null|        null|2018|2019-04-06 16:04:43|        null|         null|                null|1.1646167E7|\n",
            "|10224740|   HY411595|2015-09-05 12:45:00|   035XX W BARRY AVE|2023|   NARCOTICS|POSS: HEROIN(BRN/...|            SIDEWALK|  true|   false|1412|     014|  35|            21|      18|     1152037|     1920384|2015|2018-02-10 15:50:01|41.937405765|-87.716649687|(41.937405765, -8...|1.0224741E7|\n",
            "|10224741|   HY411610|2015-09-05 13:00:00| 0000X N LARAMIE AVE|0560|     ASSAULT|              SIMPLE|           APARTMENT| false|    true|1522|     015|  28|            25|     08A|     1141706|     1900086|2015|2018-02-10 15:50:01|41.881903443|-87.755121152|(41.881903443, -8...|1.0224742E7|\n",
            "+--------+-----------+-------------------+--------------------+----+------------+--------------------+--------------------+------+--------+----+--------+----+--------------+--------+------------+------------+----+-------------------+------------+-------------+--------------------+-----------+\n",
            "only showing top 5 rows\n",
            "\n"
          ],
          "name": "stdout"
        }
      ]
    },
    {
      "cell_type": "code",
      "metadata": {
        "colab": {
          "base_uri": "https://localhost:8080/"
        },
        "id": "r9AcDJnw4EVP",
        "outputId": "169fb01e-4dc1-433e-9545-75bd6188de41"
      },
      "source": [
        "# To rename a column\n",
        "rc_data.withColumnRenamed('ID','ID_New').show(5)"
      ],
      "execution_count": null,
      "outputs": [
        {
          "output_type": "stream",
          "text": [
            "+--------+-----------+-------------------+--------------------+----+------------+--------------------+--------------------+------+--------+----+--------+----+--------------+--------+------------+------------+----+-------------------+------------+-------------+--------------------+\n",
            "|  ID_New|Case Number|               Date|               Block|IUCR|Primary Type|         Description|Location Description|Arrest|Domestic|Beat|District|Ward|Community Area|FBI Code|X Coordinate|Y Coordinate|Year|         Updated On|    Latitude|    Longitude|            Location|\n",
            "+--------+-----------+-------------------+--------------------+----+------------+--------------------+--------------------+------+--------+----+--------+----+--------------+--------+------------+------------+----+-------------------+------------+-------------+--------------------+\n",
            "|10224738|   HY411648|2015-09-05 13:30:00|     043XX S WOOD ST|0486|     BATTERY|DOMESTIC BATTERY ...|           RESIDENCE| false|    true|0924|     009|  12|            61|     08B|     1165074|     1875917|2015|2018-02-10 15:50:01|41.815117282|-87.669999562|(41.815117282, -8...|\n",
            "|10224739|   HY411615|2015-09-04 11:30:00| 008XX N CENTRAL AVE|0870|       THEFT|      POCKET-PICKING|             CTA BUS| false|   false|1511|     015|  29|            25|      06|     1138875|     1904869|2015|2018-02-10 15:50:01|41.895080471|-87.765400451|(41.895080471, -8...|\n",
            "|11646166|   JC213529|2018-09-01 00:01:00|082XX S INGLESIDE...|0810|       THEFT|           OVER $500|           RESIDENCE| false|    true|0631|     006|   8|            44|      06|        null|        null|2018|2019-04-06 16:04:43|        null|         null|                null|\n",
            "|10224740|   HY411595|2015-09-05 12:45:00|   035XX W BARRY AVE|2023|   NARCOTICS|POSS: HEROIN(BRN/...|            SIDEWALK|  true|   false|1412|     014|  35|            21|      18|     1152037|     1920384|2015|2018-02-10 15:50:01|41.937405765|-87.716649687|(41.937405765, -8...|\n",
            "|10224741|   HY411610|2015-09-05 13:00:00| 0000X N LARAMIE AVE|0560|     ASSAULT|              SIMPLE|           APARTMENT| false|    true|1522|     015|  28|            25|     08A|     1141706|     1900086|2015|2018-02-10 15:50:01|41.881903443|-87.755121152|(41.881903443, -8...|\n",
            "+--------+-----------+-------------------+--------------------+----+------------+--------------------+--------------------+------+--------+----+--------+----+--------------+--------+------------+------------+----+-------------------+------------+-------------+--------------------+\n",
            "only showing top 5 rows\n",
            "\n"
          ],
          "name": "stdout"
        }
      ]
    },
    {
      "cell_type": "markdown",
      "metadata": {
        "id": "D0ITcdxs7DdY"
      },
      "source": [
        "# **Working with Rows**"
      ]
    },
    {
      "cell_type": "code",
      "metadata": {
        "colab": {
          "base_uri": "https://localhost:8080/"
        },
        "id": "zNasCwK94VCm",
        "outputId": "3c5eb5d8-fd19-4aeb-c128-c6abdf35a232"
      },
      "source": [
        "# To filter rows\n",
        "rc_data.filter(col('ID')=='10224738').show()"
      ],
      "execution_count": null,
      "outputs": [
        {
          "output_type": "stream",
          "text": [
            "+--------+-----------+-------------------+---------------+----+------------+--------------------+--------------------+------+--------+----+--------+----+--------------+--------+------------+------------+----+-------------------+------------+-------------+--------------------+\n",
            "|      ID|Case Number|               Date|          Block|IUCR|Primary Type|         Description|Location Description|Arrest|Domestic|Beat|District|Ward|Community Area|FBI Code|X Coordinate|Y Coordinate|Year|         Updated On|    Latitude|    Longitude|            Location|\n",
            "+--------+-----------+-------------------+---------------+----+------------+--------------------+--------------------+------+--------+----+--------+----+--------------+--------+------------+------------+----+-------------------+------------+-------------+--------------------+\n",
            "|10224738|   HY411648|2015-09-05 13:30:00|043XX S WOOD ST|0486|     BATTERY|DOMESTIC BATTERY ...|           RESIDENCE| false|    true|0924|     009|  12|            61|     08B|     1165074|     1875917|2015|2018-02-10 15:50:01|41.815117282|-87.669999562|(41.815117282, -8...|\n",
            "+--------+-----------+-------------------+---------------+----+------------+--------------------+--------------------+------+--------+----+--------+----+--------------+--------+------------+------------+----+-------------------+------------+-------------+--------------------+\n",
            "\n"
          ],
          "name": "stdout"
        }
      ]
    },
    {
      "cell_type": "code",
      "metadata": {
        "colab": {
          "base_uri": "https://localhost:8080/"
        },
        "id": "OYcAxtr05Lqi",
        "outputId": "e628d467-8d2a-4186-f0ec-f34090d16fc7"
      },
      "source": [
        "# Get Unique columns\n",
        "rc_data.select('Primary Type').distinct().show()"
      ],
      "execution_count": null,
      "outputs": [
        {
          "output_type": "stream",
          "text": [
            "+--------------------+\n",
            "|        Primary Type|\n",
            "+--------------------+\n",
            "|OFFENSE INVOLVING...|\n",
            "|CRIMINAL SEXUAL A...|\n",
            "|            STALKING|\n",
            "|PUBLIC PEACE VIOL...|\n",
            "|           OBSCENITY|\n",
            "|NON-CRIMINAL (SUB...|\n",
            "|               ARSON|\n",
            "|            GAMBLING|\n",
            "|   CRIMINAL TRESPASS|\n",
            "|             ASSAULT|\n",
            "|      NON - CRIMINAL|\n",
            "|LIQUOR LAW VIOLATION|\n",
            "| MOTOR VEHICLE THEFT|\n",
            "|               THEFT|\n",
            "|             BATTERY|\n",
            "|             ROBBERY|\n",
            "|            HOMICIDE|\n",
            "|    PUBLIC INDECENCY|\n",
            "| CRIM SEXUAL ASSAULT|\n",
            "|   HUMAN TRAFFICKING|\n",
            "+--------------------+\n",
            "only showing top 20 rows\n",
            "\n"
          ],
          "name": "stdout"
        }
      ]
    },
    {
      "cell_type": "markdown",
      "metadata": {
        "id": "Rw_ENVoj_B6v"
      },
      "source": [
        "**Top 10 primary type of reported  crimes in descending order**"
      ]
    },
    {
      "cell_type": "code",
      "metadata": {
        "colab": {
          "base_uri": "https://localhost:8080/"
        },
        "id": "uzPIXFRR7TJq",
        "outputId": "ddb4a23d-f21e-4bfe-e2e8-2cf0420330fa"
      },
      "source": [
        "rc_data.groupby('Primary Type').count().orderBy('count', ascending = False).show(10)"
      ],
      "execution_count": null,
      "outputs": [
        {
          "output_type": "stream",
          "text": [
            "+-------------------+------+\n",
            "|       Primary Type| count|\n",
            "+-------------------+------+\n",
            "|              THEFT|188267|\n",
            "|            BATTERY|151097|\n",
            "|    CRIMINAL DAMAGE| 91131|\n",
            "|            ASSAULT| 57003|\n",
            "| DECEPTIVE PRACTICE| 55950|\n",
            "|      OTHER OFFENSE| 53140|\n",
            "|          NARCOTICS| 42861|\n",
            "|           BURGLARY| 40917|\n",
            "|            ROBBERY| 34360|\n",
            "|MOTOR VEHICLE THEFT| 33530|\n",
            "+-------------------+------+\n",
            "only showing top 10 rows\n",
            "\n"
          ],
          "name": "stdout"
        }
      ]
    },
    {
      "cell_type": "markdown",
      "metadata": {
        "id": "6_rjv7LfBT4X"
      },
      "source": [
        "**Challenge 1: What are the Top 3 locations of reported crimes?**"
      ]
    },
    {
      "cell_type": "code",
      "metadata": {
        "colab": {
          "base_uri": "https://localhost:8080/"
        },
        "id": "DfLIzd9xAfX0",
        "outputId": "2b5d4b97-5598-4840-a6fa-b26db5421f14"
      },
      "source": [
        "rc_data.groupby('Location Description').count().orderBy('count', ascending = False).show(3)"
      ],
      "execution_count": null,
      "outputs": [
        {
          "output_type": "stream",
          "text": [
            "+--------------------+------+\n",
            "|Location Description| count|\n",
            "+--------------------+------+\n",
            "|              STREET|180511|\n",
            "|           RESIDENCE|137151|\n",
            "|           APARTMENT|104203|\n",
            "+--------------------+------+\n",
            "only showing top 3 rows\n",
            "\n"
          ],
          "name": "stdout"
        }
      ]
    },
    {
      "cell_type": "markdown",
      "metadata": {
        "id": "LU_kt39UCGI1"
      },
      "source": [
        "**Challange 2: Percentage of reported crimes that resulted in arrest**"
      ]
    },
    {
      "cell_type": "code",
      "metadata": {
        "colab": {
          "base_uri": "https://localhost:8080/"
        },
        "id": "EYogqU4zDqD1",
        "outputId": "7b029a3d-87d5-4c4b-cd9e-6e40d120ee56"
      },
      "source": [
        "rc_data.select('Arrest').distinct().show()"
      ],
      "execution_count": null,
      "outputs": [
        {
          "output_type": "stream",
          "text": [
            "+------+\n",
            "|Arrest|\n",
            "+------+\n",
            "| false|\n",
            "|  true|\n",
            "+------+\n",
            "\n"
          ],
          "name": "stdout"
        }
      ]
    },
    {
      "cell_type": "code",
      "metadata": {
        "colab": {
          "base_uri": "https://localhost:8080/"
        },
        "id": "z_zTzr4KCaYO",
        "outputId": "c57e8c58-ae74-442f-a8f1-439c3924d032"
      },
      "source": [
        "(rc_data.filter(col('Arrest')=='true').count()/rc_data.select('Arrest').count())*100"
      ],
      "execution_count": null,
      "outputs": [
        {
          "output_type": "execute_result",
          "data": {
            "text/plain": [
              "20.673770174870427"
            ]
          },
          "metadata": {
            "tags": []
          },
          "execution_count": 57
        }
      ]
    },
    {
      "cell_type": "markdown",
      "metadata": {
        "id": "l2xETRg2E-52"
      },
      "source": [
        "# **Built In Functions**"
      ]
    },
    {
      "cell_type": "code",
      "metadata": {
        "colab": {
          "base_uri": "https://localhost:8080/"
        },
        "id": "Xrigok76DQ1r",
        "outputId": "9bf63ecb-0562-452c-c670-5fc4ca94406a"
      },
      "source": [
        "from pyspark.sql import functions\n",
        "print(dir(functions))"
      ],
      "execution_count": null,
      "outputs": [
        {
          "output_type": "stream",
          "text": [
            "['Column', 'DataFrame', 'DataType', 'PandasUDFType', 'PythonEvalType', 'SparkContext', 'StringType', 'UserDefinedFunction', '__builtins__', '__cached__', '__doc__', '__file__', '__loader__', '__name__', '__package__', '__spec__', '_create_column_from_literal', '_create_lambda', '_create_udf', '_get_get_jvm_function', '_get_lambda_parameters', '_invoke_binary_math_function', '_invoke_function', '_invoke_function_over_column', '_invoke_higher_order_function', '_options_to_str', '_test', '_to_java_column', '_to_seq', '_unresolved_named_lambda_variable', 'abs', 'acos', 'acosh', 'add_months', 'aggregate', 'approxCountDistinct', 'approx_count_distinct', 'array', 'array_contains', 'array_distinct', 'array_except', 'array_intersect', 'array_join', 'array_max', 'array_min', 'array_position', 'array_remove', 'array_repeat', 'array_sort', 'array_union', 'arrays_overlap', 'arrays_zip', 'asc', 'asc_nulls_first', 'asc_nulls_last', 'ascii', 'asin', 'asinh', 'assert_true', 'atan', 'atan2', 'atanh', 'avg', 'base64', 'bin', 'bitwiseNOT', 'broadcast', 'bround', 'bucket', 'cbrt', 'ceil', 'coalesce', 'col', 'collect_list', 'collect_set', 'column', 'concat', 'concat_ws', 'conv', 'corr', 'cos', 'cosh', 'count', 'countDistinct', 'covar_pop', 'covar_samp', 'crc32', 'create_map', 'cume_dist', 'current_date', 'current_timestamp', 'date_add', 'date_format', 'date_sub', 'date_trunc', 'datediff', 'dayofmonth', 'dayofweek', 'dayofyear', 'days', 'decode', 'degrees', 'dense_rank', 'desc', 'desc_nulls_first', 'desc_nulls_last', 'element_at', 'encode', 'exists', 'exp', 'explode', 'explode_outer', 'expm1', 'expr', 'factorial', 'filter', 'first', 'flatten', 'floor', 'forall', 'format_number', 'format_string', 'from_csv', 'from_json', 'from_unixtime', 'from_utc_timestamp', 'functools', 'get_json_object', 'greatest', 'grouping', 'grouping_id', 'hash', 'hex', 'hour', 'hours', 'hypot', 'initcap', 'input_file_name', 'instr', 'isnan', 'isnull', 'json_tuple', 'kurtosis', 'lag', 'last', 'last_day', 'lead', 'least', 'length', 'levenshtein', 'lit', 'locate', 'log', 'log10', 'log1p', 'log2', 'lower', 'lpad', 'ltrim', 'map_concat', 'map_entries', 'map_filter', 'map_from_arrays', 'map_from_entries', 'map_keys', 'map_values', 'map_zip_with', 'max', 'md5', 'mean', 'min', 'minute', 'monotonically_increasing_id', 'month', 'months', 'months_between', 'nanvl', 'next_day', 'nth_value', 'ntile', 'overlay', 'pandas_udf', 'percent_rank', 'percentile_approx', 'posexplode', 'posexplode_outer', 'pow', 'quarter', 'radians', 'raise_error', 'rand', 'randn', 'rank', 'regexp_extract', 'regexp_replace', 'repeat', 'reverse', 'rint', 'round', 'row_number', 'rpad', 'rtrim', 'schema_of_csv', 'schema_of_json', 'second', 'sequence', 'sha1', 'sha2', 'shiftLeft', 'shiftRight', 'shiftRightUnsigned', 'shuffle', 'signum', 'sin', 'since', 'sinh', 'size', 'skewness', 'slice', 'sort_array', 'soundex', 'spark_partition_id', 'split', 'sqrt', 'stddev', 'stddev_pop', 'stddev_samp', 'struct', 'substring', 'substring_index', 'sum', 'sumDistinct', 'sys', 'tan', 'tanh', 'timestamp_seconds', 'toDegrees', 'toRadians', 'to_csv', 'to_date', 'to_json', 'to_str', 'to_timestamp', 'to_utc_timestamp', 'transform', 'transform_keys', 'transform_values', 'translate', 'trim', 'trunc', 'udf', 'unbase64', 'unhex', 'unix_timestamp', 'upper', 'var_pop', 'var_samp', 'variance', 'warnings', 'weekofyear', 'when', 'window', 'xxhash64', 'year', 'years', 'zip_with']\n"
          ],
          "name": "stdout"
        }
      ]
    },
    {
      "cell_type": "markdown",
      "metadata": {
        "id": "1w5w_TcEHmID"
      },
      "source": [
        "**String Functions**"
      ]
    },
    {
      "cell_type": "code",
      "metadata": {
        "id": "ZGFCZoPTFKQW"
      },
      "source": [
        "from pyspark.sql.functions import lower, upper, substring"
      ],
      "execution_count": 4,
      "outputs": []
    },
    {
      "cell_type": "code",
      "metadata": {
        "colab": {
          "base_uri": "https://localhost:8080/",
          "height": 0
        },
        "id": "dEuznnMiH8Zi",
        "outputId": "1083b197-53c6-495c-d502-fd41c5c659c6"
      },
      "source": [
        "help(substring)"
      ],
      "execution_count": 5,
      "outputs": [
        {
          "output_type": "stream",
          "text": [
            "Help on function substring in module pyspark.sql.functions:\n",
            "\n",
            "substring(str, pos, len)\n",
            "    Substring starts at `pos` and is of length `len` when str is String type or\n",
            "    returns the slice of byte array that starts at `pos` in byte and is of length `len`\n",
            "    when str is Binary type.\n",
            "    \n",
            "    .. versionadded:: 1.5.0\n",
            "    \n",
            "    Notes\n",
            "    -----\n",
            "    The position is not zero based, but 1 based index.\n",
            "    \n",
            "    Examples\n",
            "    --------\n",
            "    >>> df = spark.createDataFrame([('abcd',)], ['s',])\n",
            "    >>> df.select(substring(df.s, 1, 2).alias('s')).collect()\n",
            "    [Row(s='ab')]\n",
            "\n"
          ],
          "name": "stdout"
        }
      ]
    },
    {
      "cell_type": "code",
      "metadata": {
        "colab": {
          "base_uri": "https://localhost:8080/",
          "height": 0
        },
        "id": "9dl-0dFIID42",
        "outputId": "bf97a689-2994-4e77-ab5d-8058983471fe"
      },
      "source": [
        "rc_data.printSchema()"
      ],
      "execution_count": 6,
      "outputs": [
        {
          "output_type": "stream",
          "text": [
            "root\n",
            " |-- ID: string (nullable = true)\n",
            " |-- Case Number: string (nullable = true)\n",
            " |-- Date: timestamp (nullable = true)\n",
            " |-- Block: string (nullable = true)\n",
            " |-- IUCR: string (nullable = true)\n",
            " |-- Primary Type: string (nullable = true)\n",
            " |-- Description: string (nullable = true)\n",
            " |-- Location Description: string (nullable = true)\n",
            " |-- Arrest: string (nullable = true)\n",
            " |-- Domestic: string (nullable = true)\n",
            " |-- Beat: string (nullable = true)\n",
            " |-- District: string (nullable = true)\n",
            " |-- Ward: string (nullable = true)\n",
            " |-- Community Area: string (nullable = true)\n",
            " |-- FBI Code: string (nullable = true)\n",
            " |-- X Coordinate: string (nullable = true)\n",
            " |-- Y Coordinate: string (nullable = true)\n",
            " |-- Year: string (nullable = true)\n",
            " |-- Updated On: timestamp (nullable = true)\n",
            " |-- Latitude: string (nullable = true)\n",
            " |-- Longitude: string (nullable = true)\n",
            " |-- Location: string (nullable = true)\n",
            "\n"
          ],
          "name": "stdout"
        }
      ]
    },
    {
      "cell_type": "code",
      "metadata": {
        "colab": {
          "base_uri": "https://localhost:8080/",
          "height": 0
        },
        "id": "1K7AyZWhINCV",
        "outputId": "e2a0029c-0b04-452d-f47e-94c56213fac5"
      },
      "source": [
        "rc_data.select(lower(col(\"Primary Type\")), upper(col(\"Primary Type\")),substring(col(\"Primary Type\"),1,4)).show(5)"
      ],
      "execution_count": 12,
      "outputs": [
        {
          "output_type": "stream",
          "text": [
            "+-------------------+-------------------+-----------------------------+\n",
            "|lower(Primary Type)|upper(Primary Type)|substring(Primary Type, 1, 4)|\n",
            "+-------------------+-------------------+-----------------------------+\n",
            "|            battery|            BATTERY|                         BATT|\n",
            "|              theft|              THEFT|                         THEF|\n",
            "|              theft|              THEFT|                         THEF|\n",
            "|          narcotics|          NARCOTICS|                         NARC|\n",
            "|            assault|            ASSAULT|                         ASSA|\n",
            "+-------------------+-------------------+-----------------------------+\n",
            "only showing top 5 rows\n",
            "\n"
          ],
          "name": "stdout"
        }
      ]
    },
    {
      "cell_type": "markdown",
      "metadata": {
        "id": "_KZ3VhVcLye-"
      },
      "source": [
        "**Adding the newly prepared columns**"
      ]
    },
    {
      "cell_type": "code",
      "metadata": {
        "id": "KFt1CUS1KC_i"
      },
      "source": [
        "rc_data  = rc_data.withColumn(\"Primary Type(First Four Letters)\",substring(col(\"Primary Type\"),1,4))"
      ],
      "execution_count": 30,
      "outputs": []
    },
    {
      "cell_type": "code",
      "metadata": {
        "colab": {
          "base_uri": "https://localhost:8080/",
          "height": 0
        },
        "id": "tGrWyEVrKY9G",
        "outputId": "76621b06-75db-42a1-ddb4-c6c5ea6bba4a"
      },
      "source": [
        "rc_data.show(5)"
      ],
      "execution_count": 31,
      "outputs": [
        {
          "output_type": "stream",
          "text": [
            "+--------+-----------+-------------------+--------------------+----+------------+--------------------+--------------------+------+--------+----+--------+----+--------------+--------+------------+------------+----+-------------------+------------+-------------+--------------------+--------------------------------+\n",
            "|      ID|Case Number|               Date|               Block|IUCR|Primary Type|         Description|Location Description|Arrest|Domestic|Beat|District|Ward|Community Area|FBI Code|X Coordinate|Y Coordinate|Year|         Updated On|    Latitude|    Longitude|            Location|Primary Type(First Four Letters)|\n",
            "+--------+-----------+-------------------+--------------------+----+------------+--------------------+--------------------+------+--------+----+--------+----+--------------+--------+------------+------------+----+-------------------+------------+-------------+--------------------+--------------------------------+\n",
            "|10224738|   HY411648|2015-09-05 13:30:00|     043XX S WOOD ST|0486|     BATTERY|DOMESTIC BATTERY ...|           RESIDENCE| false|    true|0924|     009|  12|            61|     08B|     1165074|     1875917|2015|2018-02-10 15:50:01|41.815117282|-87.669999562|(41.815117282, -8...|                            BATT|\n",
            "|10224739|   HY411615|2015-09-04 11:30:00| 008XX N CENTRAL AVE|0870|       THEFT|      POCKET-PICKING|             CTA BUS| false|   false|1511|     015|  29|            25|      06|     1138875|     1904869|2015|2018-02-10 15:50:01|41.895080471|-87.765400451|(41.895080471, -8...|                            THEF|\n",
            "|11646166|   JC213529|2018-09-01 00:01:00|082XX S INGLESIDE...|0810|       THEFT|           OVER $500|           RESIDENCE| false|    true|0631|     006|   8|            44|      06|        null|        null|2018|2019-04-06 16:04:43|        null|         null|                null|                            THEF|\n",
            "|10224740|   HY411595|2015-09-05 12:45:00|   035XX W BARRY AVE|2023|   NARCOTICS|POSS: HEROIN(BRN/...|            SIDEWALK|  true|   false|1412|     014|  35|            21|      18|     1152037|     1920384|2015|2018-02-10 15:50:01|41.937405765|-87.716649687|(41.937405765, -8...|                            NARC|\n",
            "|10224741|   HY411610|2015-09-05 13:00:00| 0000X N LARAMIE AVE|0560|     ASSAULT|              SIMPLE|           APARTMENT| false|    true|1522|     015|  28|            25|     08A|     1141706|     1900086|2015|2018-02-10 15:50:01|41.881903443|-87.755121152|(41.881903443, -8...|                            ASSA|\n",
            "+--------+-----------+-------------------+--------------------+----+------------+--------------------+--------------------+------+--------+----+--------+----+--------------+--------+------------+------------+----+-------------------+------------+-------------+--------------------+--------------------------------+\n",
            "only showing top 5 rows\n",
            "\n"
          ],
          "name": "stdout"
        }
      ]
    },
    {
      "cell_type": "code",
      "metadata": {
        "colab": {
          "base_uri": "https://localhost:8080/",
          "height": 0
        },
        "id": "jTLTzwdaLVXp",
        "outputId": "45fb889c-99b2-49f6-f653-5dbc2587c64c"
      },
      "source": [
        "rc_data = rc_data.drop(\"Primary Type(First Four Letters)\")\n",
        "rc_data.show(5)"
      ],
      "execution_count": 32,
      "outputs": [
        {
          "output_type": "stream",
          "text": [
            "+--------+-----------+-------------------+--------------------+----+------------+--------------------+--------------------+------+--------+----+--------+----+--------------+--------+------------+------------+----+-------------------+------------+-------------+--------------------+\n",
            "|      ID|Case Number|               Date|               Block|IUCR|Primary Type|         Description|Location Description|Arrest|Domestic|Beat|District|Ward|Community Area|FBI Code|X Coordinate|Y Coordinate|Year|         Updated On|    Latitude|    Longitude|            Location|\n",
            "+--------+-----------+-------------------+--------------------+----+------------+--------------------+--------------------+------+--------+----+--------+----+--------------+--------+------------+------------+----+-------------------+------------+-------------+--------------------+\n",
            "|10224738|   HY411648|2015-09-05 13:30:00|     043XX S WOOD ST|0486|     BATTERY|DOMESTIC BATTERY ...|           RESIDENCE| false|    true|0924|     009|  12|            61|     08B|     1165074|     1875917|2015|2018-02-10 15:50:01|41.815117282|-87.669999562|(41.815117282, -8...|\n",
            "|10224739|   HY411615|2015-09-04 11:30:00| 008XX N CENTRAL AVE|0870|       THEFT|      POCKET-PICKING|             CTA BUS| false|   false|1511|     015|  29|            25|      06|     1138875|     1904869|2015|2018-02-10 15:50:01|41.895080471|-87.765400451|(41.895080471, -8...|\n",
            "|11646166|   JC213529|2018-09-01 00:01:00|082XX S INGLESIDE...|0810|       THEFT|           OVER $500|           RESIDENCE| false|    true|0631|     006|   8|            44|      06|        null|        null|2018|2019-04-06 16:04:43|        null|         null|                null|\n",
            "|10224740|   HY411595|2015-09-05 12:45:00|   035XX W BARRY AVE|2023|   NARCOTICS|POSS: HEROIN(BRN/...|            SIDEWALK|  true|   false|1412|     014|  35|            21|      18|     1152037|     1920384|2015|2018-02-10 15:50:01|41.937405765|-87.716649687|(41.937405765, -8...|\n",
            "|10224741|   HY411610|2015-09-05 13:00:00| 0000X N LARAMIE AVE|0560|     ASSAULT|              SIMPLE|           APARTMENT| false|    true|1522|     015|  28|            25|     08A|     1141706|     1900086|2015|2018-02-10 15:50:01|41.881903443|-87.755121152|(41.881903443, -8...|\n",
            "+--------+-----------+-------------------+--------------------+----+------------+--------------------+--------------------+------+--------+----+--------+----+--------------+--------+------------+------------+----+-------------------+------------+-------------+--------------------+\n",
            "only showing top 5 rows\n",
            "\n"
          ],
          "name": "stdout"
        }
      ]
    },
    {
      "cell_type": "markdown",
      "metadata": {
        "id": "__upQrqOLp29"
      },
      "source": [
        "**Show the Oldest and the Newest Date**"
      ]
    },
    {
      "cell_type": "code",
      "metadata": {
        "id": "D_FxmlT6LhIj"
      },
      "source": [
        "from pyspark.sql.functions import min, max"
      ],
      "execution_count": 17,
      "outputs": []
    },
    {
      "cell_type": "code",
      "metadata": {
        "colab": {
          "base_uri": "https://localhost:8080/",
          "height": 0
        },
        "id": "_M5nfIFMMFI1",
        "outputId": "7f2ffdeb-7db7-44b2-a833-dabd0dbc91a7"
      },
      "source": [
        "rc_data.select(min(col(\"Date\")), max(col(\"Date\"))).show()"
      ],
      "execution_count": 35,
      "outputs": [
        {
          "output_type": "stream",
          "text": [
            "+-------------------+-------------------+\n",
            "|          min(Date)|          max(Date)|\n",
            "+-------------------+-------------------+\n",
            "|2001-01-01 00:00:00|2018-11-12 21:00:00|\n",
            "+-------------------+-------------------+\n",
            "\n"
          ],
          "name": "stdout"
        }
      ]
    },
    {
      "cell_type": "markdown",
      "metadata": {
        "id": "1nbs3eo-NkJQ"
      },
      "source": [
        "# **Date Functions**"
      ]
    },
    {
      "cell_type": "code",
      "metadata": {
        "id": "JUAhfiCDMPoO"
      },
      "source": [
        "from pyspark.sql.functions import date_add, date_sub, datediff"
      ],
      "execution_count": 36,
      "outputs": []
    },
    {
      "cell_type": "code",
      "metadata": {
        "id": "qomfmUN6OLXl"
      },
      "source": [
        "min_date = rc_data.select(min(col(\"Date\"))).collect()[0][\"min(Date)\"]\n",
        "max_date = rc_data.select(max(col(\"Date\"))).collect()[0][\"max(Date)\"]"
      ],
      "execution_count": 62,
      "outputs": []
    },
    {
      "cell_type": "code",
      "metadata": {
        "colab": {
          "base_uri": "https://localhost:8080/",
          "height": 0
        },
        "id": "KcemX7GAPiQw",
        "outputId": "bb4d819d-55b9-4dbf-8253-a5fc2f3a8673"
      },
      "source": [
        "print(min_date)\n",
        "print(max_date)\n",
        "###### Why cannot I use this as a input in date_add function"
      ],
      "execution_count": 63,
      "outputs": [
        {
          "output_type": "stream",
          "text": [
            "2001-01-01 00:00:00\n",
            "2018-11-12 21:00:00\n"
          ],
          "name": "stdout"
        }
      ]
    },
    {
      "cell_type": "code",
      "metadata": {
        "colab": {
          "base_uri": "https://localhost:8080/",
          "height": 0
        },
        "id": "KGlf1IT6N_LC",
        "outputId": "78466e8b-539e-45e3-892e-6250f9898d6e"
      },
      "source": [
        "help(date_add)"
      ],
      "execution_count": 37,
      "outputs": [
        {
          "output_type": "stream",
          "text": [
            "Help on function date_add in module pyspark.sql.functions:\n",
            "\n",
            "date_add(start, days)\n",
            "    Returns the date that is `days` days after `start`\n",
            "    \n",
            "    .. versionadded:: 1.5.0\n",
            "    \n",
            "    Examples\n",
            "    --------\n",
            "    >>> df = spark.createDataFrame([('2015-04-08',)], ['dt'])\n",
            "    >>> df.select(date_add(df.dt, 1).alias('next_date')).collect()\n",
            "    [Row(next_date=datetime.date(2015, 4, 9))]\n",
            "\n"
          ],
          "name": "stdout"
        }
      ]
    },
    {
      "cell_type": "markdown",
      "metadata": {
        "id": "kgcBsHOyOfmQ"
      },
      "source": [
        "**3 date after the oldest date**"
      ]
    },
    {
      "cell_type": "code",
      "metadata": {
        "colab": {
          "base_uri": "https://localhost:8080/",
          "height": 0
        },
        "id": "hd_qYjtWOBZp",
        "outputId": "47019146-86d0-4f7e-c24b-129f4a6aec50"
      },
      "source": [
        "rc_data.select(date_add(min(col(\"Date\")),3)).show()"
      ],
      "execution_count": 46,
      "outputs": [
        {
          "output_type": "stream",
          "text": [
            "+----------------------+\n",
            "|date_add(min(Date), 3)|\n",
            "+----------------------+\n",
            "|            2001-01-04|\n",
            "+----------------------+\n",
            "\n"
          ],
          "name": "stdout"
        }
      ]
    },
    {
      "cell_type": "markdown",
      "metadata": {
        "id": "mvB7hvj1Tzt0"
      },
      "source": [
        "**3 days before than the most recent date**"
      ]
    },
    {
      "cell_type": "code",
      "metadata": {
        "colab": {
          "base_uri": "https://localhost:8080/",
          "height": 0
        },
        "id": "OY05zLs-QNYk",
        "outputId": "2400e55f-f202-4797-a7eb-93e1060aab35"
      },
      "source": [
        "rc_data.select(date_sub(max(col(\"Date\")),3)).show()"
      ],
      "execution_count": 66,
      "outputs": [
        {
          "output_type": "stream",
          "text": [
            "+----------------------+\n",
            "|date_sub(max(Date), 3)|\n",
            "+----------------------+\n",
            "|            2018-11-09|\n",
            "+----------------------+\n",
            "\n"
          ],
          "name": "stdout"
        }
      ]
    },
    {
      "cell_type": "markdown",
      "metadata": {
        "id": "EbFozjn2VusY"
      },
      "source": [
        "# **Working With Dates (in Details)**"
      ]
    },
    {
      "cell_type": "markdown",
      "metadata": {
        "id": "n3DJLpE6XRVB"
      },
      "source": [
        "**Different Date Formats**"
      ]
    },
    {
      "cell_type": "code",
      "metadata": {
        "id": "XH-NTedcYw73"
      },
      "source": [
        "from pyspark.sql.functions import to_date, to_timestamp, lit"
      ],
      "execution_count": 74,
      "outputs": []
    },
    {
      "cell_type": "code",
      "metadata": {
        "colab": {
          "base_uri": "https://localhost:8080/",
          "height": 0
        },
        "id": "HMbQHrrfVPv9",
        "outputId": "a28ffe1d-564e-45a6-f04a-7eac05745b13"
      },
      "source": [
        "df = spark.createDataFrame([('2021-03-14 10:34:00',)],['Birthday'])\n",
        "df.show()\n",
        "df.select(to_date(col(\"Birthday\"),\"yyyy-MM-dd HH:mm:ss\"),to_timestamp(col(\"Birthday\"),\"yyyy-MM-dd HH:mm:ss\")).show()"
      ],
      "execution_count": 76,
      "outputs": [
        {
          "output_type": "stream",
          "text": [
            "+-------------------+\n",
            "|           Birthday|\n",
            "+-------------------+\n",
            "|2021-03-14 10:34:00|\n",
            "+-------------------+\n",
            "\n",
            "+--------------------------------------+-------------------------------------------+\n",
            "|to_date(Birthday, yyyy-MM-dd HH:mm:ss)|to_timestamp(Birthday, yyyy-MM-dd HH:mm:ss)|\n",
            "+--------------------------------------+-------------------------------------------+\n",
            "|                            2021-03-14|                        2021-03-14 10:34:00|\n",
            "+--------------------------------------+-------------------------------------------+\n",
            "\n"
          ],
          "name": "stdout"
        }
      ]
    },
    {
      "cell_type": "code",
      "metadata": {
        "colab": {
          "base_uri": "https://localhost:8080/",
          "height": 0
        },
        "id": "rCL8bnNCYuwg",
        "outputId": "25b4cd6b-548d-461d-f144-f39440bb3263"
      },
      "source": [
        "df = spark.createDataFrame([('14/Mar/2021 10:34:00',)],['Birthday'])\n",
        "df.show()\n",
        "df.select(to_date(col(\"Birthday\"),\"dd/MMM/yyyy HH:mm:ss\"),to_timestamp(col(\"Birthday\"),\"dd/MMM/yyyy HH:mm:ss\")).show() ## As string MMM"
      ],
      "execution_count": 78,
      "outputs": [
        {
          "output_type": "stream",
          "text": [
            "+--------------------+\n",
            "|            Birthday|\n",
            "+--------------------+\n",
            "|14/Mar/2021 10:34:00|\n",
            "+--------------------+\n",
            "\n",
            "+---------------------------------------+--------------------------------------------+\n",
            "|to_date(Birthday, dd/MMM/yyyy HH:mm:ss)|to_timestamp(Birthday, dd/MMM/yyyy HH:mm:ss)|\n",
            "+---------------------------------------+--------------------------------------------+\n",
            "|                             2021-03-14|                         2021-03-14 10:34:00|\n",
            "+---------------------------------------+--------------------------------------------+\n",
            "\n"
          ],
          "name": "stdout"
        }
      ]
    },
    {
      "cell_type": "code",
      "metadata": {
        "colab": {
          "base_uri": "https://localhost:8080/",
          "height": 0
        },
        "id": "0G-VynULbLfL",
        "outputId": "d9a77c30-ee1b-4a26-fb72-fc9e85a56a6e"
      },
      "source": [
        "rc_data.show(5, truncate=False)"
      ],
      "execution_count": 80,
      "outputs": [
        {
          "output_type": "stream",
          "text": [
            "+--------+-----------+-------------------+---------------------+----+------------+-----------------------+--------------------+------+--------+----+--------+----+--------------+--------+------------+------------+----+-------------------+------------+-------------+-----------------------------+\n",
            "|ID      |Case Number|Date               |Block                |IUCR|Primary Type|Description            |Location Description|Arrest|Domestic|Beat|District|Ward|Community Area|FBI Code|X Coordinate|Y Coordinate|Year|Updated On         |Latitude    |Longitude    |Location                     |\n",
            "+--------+-----------+-------------------+---------------------+----+------------+-----------------------+--------------------+------+--------+----+--------+----+--------------+--------+------------+------------+----+-------------------+------------+-------------+-----------------------------+\n",
            "|10224738|HY411648   |2015-09-05 13:30:00|043XX S WOOD ST      |0486|BATTERY     |DOMESTIC BATTERY SIMPLE|RESIDENCE           |false |true    |0924|009     |12  |61            |08B     |1165074     |1875917     |2015|2018-02-10 15:50:01|41.815117282|-87.669999562|(41.815117282, -87.669999562)|\n",
            "|10224739|HY411615   |2015-09-04 11:30:00|008XX N CENTRAL AVE  |0870|THEFT       |POCKET-PICKING         |CTA BUS             |false |false   |1511|015     |29  |25            |06      |1138875     |1904869     |2015|2018-02-10 15:50:01|41.895080471|-87.765400451|(41.895080471, -87.765400451)|\n",
            "|11646166|JC213529   |2018-09-01 00:01:00|082XX S INGLESIDE AVE|0810|THEFT       |OVER $500              |RESIDENCE           |false |true    |0631|006     |8   |44            |06      |null        |null        |2018|2019-04-06 16:04:43|null        |null         |null                         |\n",
            "|10224740|HY411595   |2015-09-05 12:45:00|035XX W BARRY AVE    |2023|NARCOTICS   |POSS: HEROIN(BRN/TAN)  |SIDEWALK            |true  |false   |1412|014     |35  |21            |18      |1152037     |1920384     |2015|2018-02-10 15:50:01|41.937405765|-87.716649687|(41.937405765, -87.716649687)|\n",
            "|10224741|HY411610   |2015-09-05 13:00:00|0000X N LARAMIE AVE  |0560|ASSAULT     |SIMPLE                 |APARTMENT           |false |true    |1522|015     |28  |25            |08A     |1141706     |1900086     |2015|2018-02-10 15:50:01|41.881903443|-87.755121152|(41.881903443, -87.755121152)|\n",
            "+--------+-----------+-------------------+---------------------+----+------------+-----------------------+--------------------+------+--------+----+--------+----+--------------+--------+------------+------------+----+-------------------+------------+-------------+-----------------------------+\n",
            "only showing top 5 rows\n",
            "\n"
          ],
          "name": "stdout"
        }
      ]
    },
    {
      "cell_type": "markdown",
      "metadata": {
        "id": "GaRF5nrxcK0p"
      },
      "source": [
        "# **User Defined Functions**"
      ]
    },
    {
      "cell_type": "markdown",
      "metadata": {
        "id": "pVTUsCxQ4OZh"
      },
      "source": [
        "# **Joins**"
      ]
    },
    {
      "cell_type": "markdown",
      "metadata": {
        "id": "RxhB_9gB6B-f"
      },
      "source": [
        "**Get the Police Station Dataset for joining**"
      ]
    },
    {
      "cell_type": "code",
      "metadata": {
        "colab": {
          "base_uri": "https://localhost:8080/",
          "height": 0
        },
        "id": "a64q0X6Bb71U",
        "outputId": "92329fce-89bf-41cc-a58a-84a573ef97f6"
      },
      "source": [
        "ps = spark.read.csv('/content/drive/MyDrive/Colab Notebooks/PySpark/Police_Stations.csv', header = True)\n",
        "ps.show(5)"
      ],
      "execution_count": 5,
      "outputs": [
        {
          "output_type": "stream",
          "text": [
            "+------------+-------------+-------------------+-------+-----+-----+--------------------+------------+------------+------------+------------+------------+-----------+------------+--------------------+\n",
            "|    DISTRICT|DISTRICT NAME|            ADDRESS|   CITY|STATE|  ZIP|             WEBSITE|       PHONE|         FAX|         TTY|X COORDINATE|Y COORDINATE|   LATITUDE|   LONGITUDE|            LOCATION|\n",
            "+------------+-------------+-------------------+-------+-----+-----+--------------------+------------+------------+------------+------------+------------+-----------+------------+--------------------+\n",
            "|Headquarters| Headquarters|3510 S Michigan Ave|Chicago|   IL|60653|http://home.chica...|        null|        null|        null| 1177731.401| 1881697.404|41.83070169|-87.62339535|(41.8307016873, -...|\n",
            "|          18|   Near North| 1160 N Larrabee St|Chicago|   IL|60610|http://home.chica...|312-742-5870|312-742-5771|312-742-5773| 1172080.029| 1908086.527|41.90324165|-87.64335214|(41.9032416531, -...|\n",
            "|          19|    Town Hall|   850 W Addison St|Chicago|   IL|60613|http://home.chica...|312-744-8320|312-744-4481|312-744-8011| 1169730.744| 1924160.317|41.94740046|-87.65151202|(41.9474004564, -...|\n",
            "|          20|      Lincoln| 5400 N Lincoln Ave|Chicago|   IL|60625|http://home.chica...|312-742-8714|312-742-8803|312-742-8841| 1158399.146| 1935788.826|41.97954951|-87.69284451|(41.9795495131, -...|\n",
            "|          22|  Morgan Park|1900 W Monterey Ave|Chicago|   IL|60643|http://home.chica...|312-745-0710|312-745-0814|312-745-0569| 1165825.476| 1830851.333|41.69143478|-87.66852039|(41.6914347795, -...|\n",
            "+------------+-------------+-------------------+-------+-----+-----+--------------------+------------+------------+------------+------------+------------+-----------+------------+--------------------+\n",
            "only showing top 5 rows\n",
            "\n"
          ],
          "name": "stdout"
        }
      ]
    },
    {
      "cell_type": "markdown",
      "metadata": {
        "id": "oKz6uSPT8byK"
      },
      "source": [
        "**Padding**"
      ]
    },
    {
      "cell_type": "code",
      "metadata": {
        "colab": {
          "base_uri": "https://localhost:8080/",
          "height": 0
        },
        "id": "4a2YWBzE7Pi_",
        "outputId": "f57dd97d-9382-476c-ac63-1108ec9aee9c"
      },
      "source": [
        "from pyspark.sql.functions import desc, lpad\n",
        "print(rc_data.groupBy('District').count().sort(desc('count')).show(10))\n",
        "print(ps.groupBy('DISTRICT').count().sort(desc('count')).show(10))"
      ],
      "execution_count": 16,
      "outputs": [
        {
          "output_type": "stream",
          "text": [
            "+--------+-----+\n",
            "|district|count|\n",
            "+--------+-----+\n",
            "|     011|56372|\n",
            "|     008|51260|\n",
            "|     006|49668|\n",
            "|     004|45260|\n",
            "|     001|44037|\n",
            "|     007|43328|\n",
            "|     025|43203|\n",
            "|     018|42438|\n",
            "|     012|40482|\n",
            "|     003|38370|\n",
            "+--------+-----+\n",
            "only showing top 10 rows\n",
            "\n",
            "None\n",
            "+--------+-----+\n",
            "|DISTRICT|count|\n",
            "+--------+-----+\n",
            "|      15|    1|\n",
            "|       7|    1|\n",
            "|      11|    1|\n",
            "|       3|    1|\n",
            "|       8|    1|\n",
            "|      22|    1|\n",
            "|      16|    1|\n",
            "|       5|    1|\n",
            "|      18|    1|\n",
            "|      17|    1|\n",
            "+--------+-----+\n",
            "only showing top 10 rows\n",
            "\n",
            "None\n"
          ],
          "name": "stdout"
        }
      ]
    },
    {
      "cell_type": "code",
      "metadata": {
        "colab": {
          "base_uri": "https://localhost:8080/",
          "height": 0
        },
        "id": "GA0w9CIe82qj",
        "outputId": "6c9de856-8add-46d8-e80f-0f77690481f6"
      },
      "source": [
        "ps = ps.withColumn('Padded_DISTRICT',lpad(col('DISTRICT'),3,'0'))\n",
        "ps.show(5, truncate = False,vertical = False)"
      ],
      "execution_count": 18,
      "outputs": [
        {
          "output_type": "stream",
          "text": [
            "+------------+-------------+-------------------+-------+-----+-----+----------------------------------------------------------------------------+------------+------------+------------+------------+------------+-----------+------------+-------------------------------+---------------+\n",
            "|DISTRICT    |DISTRICT NAME|ADDRESS            |CITY   |STATE|ZIP  |WEBSITE                                                                     |PHONE       |FAX         |TTY         |X COORDINATE|Y COORDINATE|LATITUDE   |LONGITUDE   |LOCATION                       |Padded_DISTRICT|\n",
            "+------------+-------------+-------------------+-------+-----+-----+----------------------------------------------------------------------------+------------+------------+------------+------------+------------+-----------+------------+-------------------------------+---------------+\n",
            "|Headquarters|Headquarters |3510 S Michigan Ave|Chicago|IL   |60653|http://home.chicagopolice.org                                               |null        |null        |null        |1177731.401 |1881697.404 |41.83070169|-87.62339535|(41.8307016873, -87.6233953459)|Hea            |\n",
            "|18          |Near North   |1160 N Larrabee St |Chicago|IL   |60610|http://home.chicagopolice.org/community/districts/18th-district-near-north/ |312-742-5870|312-742-5771|312-742-5773|1172080.029 |1908086.527 |41.90324165|-87.64335214|(41.9032416531, -87.6433521393)|018            |\n",
            "|19          |Town Hall    |850 W Addison St   |Chicago|IL   |60613|http://home.chicagopolice.org/community/districts/19th-district-town-hall/  |312-744-8320|312-744-4481|312-744-8011|1169730.744 |1924160.317 |41.94740046|-87.65151202|(41.9474004564, -87.651512018) |019            |\n",
            "|20          |Lincoln      |5400 N Lincoln Ave |Chicago|IL   |60625|http://home.chicagopolice.org/community/districts/20th-district-lincoln/    |312-742-8714|312-742-8803|312-742-8841|1158399.146 |1935788.826 |41.97954951|-87.69284451|(41.9795495131, -87.6928445094)|020            |\n",
            "|22          |Morgan Park  |1900 W Monterey Ave|Chicago|IL   |60643|http://home.chicagopolice.org/community/districts/22nd-district-morgan-park/|312-745-0710|312-745-0814|312-745-0569|1165825.476 |1830851.333 |41.69143478|-87.66852039|(41.6914347795, -87.6685203937)|022            |\n",
            "+------------+-------------+-------------------+-------+-----+-----+----------------------------------------------------------------------------+------------+------------+------------+------------+------------+-----------+------------+-------------------------------+---------------+\n",
            "only showing top 5 rows\n",
            "\n"
          ],
          "name": "stdout"
        }
      ]
    },
    {
      "cell_type": "code",
      "metadata": {
        "colab": {
          "base_uri": "https://localhost:8080/"
        },
        "id": "bGPWe8SjBpMm",
        "outputId": "5973a851-61a4-4e63-9e0f-8a17ff2c5b16"
      },
      "source": [
        "rc_data.show(5,truncate = False)"
      ],
      "execution_count": 27,
      "outputs": [
        {
          "output_type": "stream",
          "text": [
            "+--------+-----------+-------------------+---------------------+----+------------+-----------------------+--------------------+------+--------+----+--------+----+--------------+--------+------------+------------+----+-------------------+------------+-------------+-----------------------------+\n",
            "|ID      |Case Number|Date               |Block                |IUCR|Primary Type|Description            |Location Description|Arrest|Domestic|Beat|District|Ward|Community Area|FBI Code|X Coordinate|Y Coordinate|Year|Updated On         |Latitude    |Longitude    |Location                     |\n",
            "+--------+-----------+-------------------+---------------------+----+------------+-----------------------+--------------------+------+--------+----+--------+----+--------------+--------+------------+------------+----+-------------------+------------+-------------+-----------------------------+\n",
            "|10224738|HY411648   |2015-09-05 13:30:00|043XX S WOOD ST      |0486|BATTERY     |DOMESTIC BATTERY SIMPLE|RESIDENCE           |false |true    |0924|009     |12  |61            |08B     |1165074     |1875917     |2015|2018-02-10 15:50:01|41.815117282|-87.669999562|(41.815117282, -87.669999562)|\n",
            "|10224739|HY411615   |2015-09-04 11:30:00|008XX N CENTRAL AVE  |0870|THEFT       |POCKET-PICKING         |CTA BUS             |false |false   |1511|015     |29  |25            |06      |1138875     |1904869     |2015|2018-02-10 15:50:01|41.895080471|-87.765400451|(41.895080471, -87.765400451)|\n",
            "|11646166|JC213529   |2018-09-01 00:01:00|082XX S INGLESIDE AVE|0810|THEFT       |OVER $500              |RESIDENCE           |false |true    |0631|006     |8   |44            |06      |null        |null        |2018|2019-04-06 16:04:43|null        |null         |null                         |\n",
            "|10224740|HY411595   |2015-09-05 12:45:00|035XX W BARRY AVE    |2023|NARCOTICS   |POSS: HEROIN(BRN/TAN)  |SIDEWALK            |true  |false   |1412|014     |35  |21            |18      |1152037     |1920384     |2015|2018-02-10 15:50:01|41.937405765|-87.716649687|(41.937405765, -87.716649687)|\n",
            "|10224741|HY411610   |2015-09-05 13:00:00|0000X N LARAMIE AVE  |0560|ASSAULT     |SIMPLE                 |APARTMENT           |false |true    |1522|015     |28  |25            |08A     |1141706     |1900086     |2015|2018-02-10 15:50:01|41.881903443|-87.755121152|(41.881903443, -87.755121152)|\n",
            "+--------+-----------+-------------------+---------------------+----+------------+-----------------------+--------------------+------+--------+----+--------+----+--------------+--------+------------+------------+----+-------------------+------------+-------------+-----------------------------+\n",
            "only showing top 5 rows\n",
            "\n"
          ],
          "name": "stdout"
        }
      ]
    },
    {
      "cell_type": "code",
      "metadata": {
        "colab": {
          "base_uri": "https://localhost:8080/"
        },
        "id": "Qbmy96MK_ptQ",
        "outputId": "575ebfd3-bc35-485a-d7b1-e6e18ab64a60"
      },
      "source": [
        "joined_data = rc_data.join(ps, rc_data.District == ps.Padded_DISTRICT, 'left_outer')\n",
        "joined_data.show(5)"
      ],
      "execution_count": 23,
      "outputs": [
        {
          "output_type": "stream",
          "text": [
            "+--------+-----------+-------------------+--------------------+----+------------+--------------------+--------------------+------+--------+----+--------+----+--------------+--------+------------+------------+----+-------------------+------------+-------------+--------------------+--------+-------------+--------------------+-------+-----+-----+--------------------+------------+------------+------------+------------+------------+-----------+------------+--------------------+---------------+\n",
            "|      ID|Case Number|               Date|               Block|IUCR|Primary Type|         Description|Location Description|Arrest|Domestic|Beat|District|Ward|Community Area|FBI Code|X Coordinate|Y Coordinate|Year|         Updated On|    Latitude|    Longitude|            Location|DISTRICT|DISTRICT NAME|             ADDRESS|   CITY|STATE|  ZIP|             WEBSITE|       PHONE|         FAX|         TTY|X COORDINATE|Y COORDINATE|   LATITUDE|   LONGITUDE|            LOCATION|Padded_DISTRICT|\n",
            "+--------+-----------+-------------------+--------------------+----+------------+--------------------+--------------------+------+--------+----+--------+----+--------------+--------+------------+------------+----+-------------------+------------+-------------+--------------------+--------+-------------+--------------------+-------+-----+-----+--------------------+------------+------------+------------+------------+------------+-----------+------------+--------------------+---------------+\n",
            "|10224738|   HY411648|2015-09-05 13:30:00|     043XX S WOOD ST|0486|     BATTERY|DOMESTIC BATTERY ...|           RESIDENCE| false|    true|0924|     009|  12|            61|     08B|     1165074|     1875917|2015|2018-02-10 15:50:01|41.815117282|-87.669999562|(41.815117282, -8...|       9|      Deering|   3120 S Halsted St|Chicago|   IL|60608|http://home.chica...|312-747-8227|312-747-5329|312-747-9172|  1171440.24| 1884085.224|41.83739443|-87.64640771|(41.8373944311, -...|            009|\n",
            "|10224739|   HY411615|2015-09-04 11:30:00| 008XX N CENTRAL AVE|0870|       THEFT|      POCKET-PICKING|             CTA BUS| false|   false|1511|     015|  29|            25|      06|     1138875|     1904869|2015|2018-02-10 15:50:01|41.895080471|-87.765400451|(41.895080471, -8...|      15|       Austin|   5701 W Madison St|Chicago|   IL|60644|http://home.chica...|312-743-1440|312-743-1366|312-743-1485| 1138148.815| 1899399.078|41.88008346|-87.76819989|(41.8800834614, -...|            015|\n",
            "|11646166|   JC213529|2018-09-01 00:01:00|082XX S INGLESIDE...|0810|       THEFT|           OVER $500|           RESIDENCE| false|    true|0631|     006|   8|            44|      06|        null|        null|2018|2019-04-06 16:04:43|        null|         null|                null|       6|      Gresham|   7808 S Halsted St|Chicago|   IL|60620|http://home.chica...|312-745-3617|312-745-3649|312-745-3639| 1172283.013| 1853022.646|41.75213684|-87.64422891|(41.7521368378, -...|            006|\n",
            "|10224740|   HY411595|2015-09-05 12:45:00|   035XX W BARRY AVE|2023|   NARCOTICS|POSS: HEROIN(BRN/...|            SIDEWALK|  true|   false|1412|     014|  35|            21|      18|     1152037|     1920384|2015|2018-02-10 15:50:01|41.937405765|-87.716649687|(41.937405765, -8...|      14|  Shakespeare|2150 N California...|Chicago|   IL|60647|http://home.chica...|312-744-8250|312-744-2422|312-744-8260| 1157304.426| 1914481.521|41.92110332|-87.69745182|(41.9211033246, -...|            014|\n",
            "|10224741|   HY411610|2015-09-05 13:00:00| 0000X N LARAMIE AVE|0560|     ASSAULT|              SIMPLE|           APARTMENT| false|    true|1522|     015|  28|            25|     08A|     1141706|     1900086|2015|2018-02-10 15:50:01|41.881903443|-87.755121152|(41.881903443, -8...|      15|       Austin|   5701 W Madison St|Chicago|   IL|60644|http://home.chica...|312-743-1440|312-743-1366|312-743-1485| 1138148.815| 1899399.078|41.88008346|-87.76819989|(41.8800834614, -...|            015|\n",
            "+--------+-----------+-------------------+--------------------+----+------------+--------------------+--------------------+------+--------+----+--------+----+--------------+--------+------------+------------+----+-------------------+------------+-------------+--------------------+--------+-------------+--------------------+-------+-----+-----+--------------------+------------+------------+------------+------------+------------+-----------+------------+--------------------+---------------+\n",
            "only showing top 5 rows\n",
            "\n"
          ],
          "name": "stdout"
        }
      ]
    },
    {
      "cell_type": "code",
      "metadata": {
        "colab": {
          "base_uri": "https://localhost:8080/"
        },
        "id": "iktvSF_RDAol",
        "outputId": "e48f22fc-403c-4a51-d36c-91170297dd10"
      },
      "source": [
        "joined_data = joined_data.drop('ADDRESS',\n",
        " 'CITY',\n",
        " 'STATE',\n",
        " 'ZIP',\n",
        " 'WEBSITE',\n",
        " 'PHONE',\n",
        " 'FAX',\n",
        " 'TTY',\n",
        " 'X COORDINATE',\n",
        " 'Y COORDINATE',\n",
        " 'LATITUDE',\n",
        " 'LONGITUDE',\n",
        " 'LOCATION',\n",
        " 'Padded_DISTRICT')\n",
        "joined_data.show(5)"
      ],
      "execution_count": 26,
      "outputs": [
        {
          "output_type": "stream",
          "text": [
            "+--------+-----------+-------------------+--------------------+----+------------+--------------------+--------------------+------+--------+----+--------+----+--------------+--------+----+-------------------+--------+-------------+\n",
            "|      ID|Case Number|               Date|               Block|IUCR|Primary Type|         Description|Location Description|Arrest|Domestic|Beat|District|Ward|Community Area|FBI Code|Year|         Updated On|DISTRICT|DISTRICT NAME|\n",
            "+--------+-----------+-------------------+--------------------+----+------------+--------------------+--------------------+------+--------+----+--------+----+--------------+--------+----+-------------------+--------+-------------+\n",
            "|10224738|   HY411648|2015-09-05 13:30:00|     043XX S WOOD ST|0486|     BATTERY|DOMESTIC BATTERY ...|           RESIDENCE| false|    true|0924|     009|  12|            61|     08B|2015|2018-02-10 15:50:01|       9|      Deering|\n",
            "|10224739|   HY411615|2015-09-04 11:30:00| 008XX N CENTRAL AVE|0870|       THEFT|      POCKET-PICKING|             CTA BUS| false|   false|1511|     015|  29|            25|      06|2015|2018-02-10 15:50:01|      15|       Austin|\n",
            "|11646166|   JC213529|2018-09-01 00:01:00|082XX S INGLESIDE...|0810|       THEFT|           OVER $500|           RESIDENCE| false|    true|0631|     006|   8|            44|      06|2018|2019-04-06 16:04:43|       6|      Gresham|\n",
            "|10224740|   HY411595|2015-09-05 12:45:00|   035XX W BARRY AVE|2023|   NARCOTICS|POSS: HEROIN(BRN/...|            SIDEWALK|  true|   false|1412|     014|  35|            21|      18|2015|2018-02-10 15:50:01|      14|  Shakespeare|\n",
            "|10224741|   HY411610|2015-09-05 13:00:00| 0000X N LARAMIE AVE|0560|     ASSAULT|              SIMPLE|           APARTMENT| false|    true|1522|     015|  28|            25|     08A|2015|2018-02-10 15:50:01|      15|       Austin|\n",
            "+--------+-----------+-------------------+--------------------+----+------------+--------------------+--------------------+------+--------+----+--------+----+--------------+--------+----+-------------------+--------+-------------+\n",
            "only showing top 5 rows\n",
            "\n"
          ],
          "name": "stdout"
        }
      ]
    },
    {
      "cell_type": "markdown",
      "metadata": {
        "id": "O8nCvcEFErBq"
      },
      "source": [
        "# **Challenges**"
      ]
    },
    {
      "cell_type": "markdown",
      "metadata": {
        "id": "mS2mgG6oEybc"
      },
      "source": [
        "**Question: Find the most frequently reported non-criminal activity**\n",
        "\n"
      ]
    },
    {
      "cell_type": "code",
      "metadata": {
        "colab": {
          "base_uri": "https://localhost:8080/"
        },
        "id": "c4dtJ_weFarg",
        "outputId": "156a4e43-f8d3-4134-c9d8-6e2cb513b47b"
      },
      "source": [
        "#Using rlike for string matchin NON, all were upper case, so no need for changing to uppercase explicitly\n",
        "rc_data = rc_data.withColumn(\"Non_Criminal\",col(\"Primary Type\").rlike(\"NON\"))\n",
        "print(rc_data.groupBy('Non_Criminal').count().sort('Count').show(truncate = False))"
      ],
      "execution_count": 39,
      "outputs": [
        {
          "output_type": "stream",
          "text": [
            "+------------+------+\n",
            "|Non_Criminal|count |\n",
            "+------------+------+\n",
            "|true        |133   |\n",
            "|false       |811954|\n",
            "+------------+------+\n",
            "\n",
            "None\n"
          ],
          "name": "stdout"
        }
      ]
    },
    {
      "cell_type": "code",
      "metadata": {
        "colab": {
          "base_uri": "https://localhost:8080/"
        },
        "id": "Ee-3k7IGIM0j",
        "outputId": "fcd4725c-55c3-45f2-9229-c8c89e74f8d0"
      },
      "source": [
        "nc_data = rc_data.filter(rc_data[\"Non_Criminal\"])\n",
        "nc_data.show(10, truncate = False)"
      ],
      "execution_count": 48,
      "outputs": [
        {
          "output_type": "stream",
          "text": [
            "+--------+-----------+-------------------+---------------------+----+--------------+-----------------+-------------------------------+------+--------+----+--------+----+--------------+--------+------------+------------+----+-------------------+------------+-------------+-----------------------------+------------+\n",
            "|ID      |Case Number|Date               |Block                |IUCR|Primary Type  |Description      |Location Description           |Arrest|Domestic|Beat|District|Ward|Community Area|FBI Code|X Coordinate|Y Coordinate|Year|Updated On         |Latitude    |Longitude    |Location                     |Non_Criminal|\n",
            "+--------+-----------+-------------------+---------------------+----+--------------+-----------------+-------------------------------+------+--------+----+--------+----+--------------+--------+------------+------------+----+-------------------+------------+-------------+-----------------------------+------------+\n",
            "|10233370|HY421530   |2015-09-13 10:45:00|010XX S MENARD AVE   |5114|NON - CRIMINAL|FOID - REVOCATION|RESIDENCE                      |true  |false   |1513|015     |29  |25            |26      |1137869     |1895239     |2015|2018-02-10 15:50:01|41.868672696|-87.769327726|(41.868672696, -87.769327726)|true        |\n",
            "|10241515|HY429346   |2015-09-19 07:45:00|051XX N MILWAUKEE AVE|5114|NON - CRIMINAL|FOID - REVOCATION|POLICE FACILITY/VEH PARKING LOT|true  |false   |1623|016     |45  |11            |26      |1138424     |1933673     |2015|2018-02-10 15:50:01|41.974129858|-87.766357256|(41.974129858, -87.766357256)|true        |\n",
            "|10277370|HY465290   |2015-10-16 20:00:00|100XX W OHARE ST     |5093|NON-CRIMINAL  |LOST PASSPORT    |AIRCRAFT                       |false |false   |1651|016     |41  |76            |26      |1100658     |1934241     |2015|2018-02-10 15:50:01|41.976290414|-87.905227221|(41.976290414, -87.905227221)|true        |\n",
            "|10280097|HY468448   |2015-10-19 18:50:00|033XX W OGDEN AVE    |5114|NON - CRIMINAL|FOID - REVOCATION|POLICE FACILITY/VEH PARKING LOT|false |false   |1024|010     |24  |29            |26      |1154489     |1891024     |2015|2018-02-10 15:50:01|41.856790413|-87.708424071|(41.856790413, -87.708424071)|true        |\n",
            "|10290745|HY478502   |2015-10-26 16:00:00|004XX W DIVERSEY PKWY|5093|NON-CRIMINAL  |LOST PASSPORT    |SIDEWALK                       |false |false   |1934|019     |44  |6             |26      |1172533     |1918887     |2015|2018-02-10 15:50:01|41.932868651|-87.641368196|(41.932868651, -87.641368196)|true        |\n",
            "|10296800|HY485235   |2015-09-30 17:00:00|008XX N MAPLEWOOD AVE|5093|NON-CRIMINAL  |LOST PASSPORT    |SIDEWALK                       |false |false   |1211|012     |1   |24            |26      |1159246     |1905582     |2015|2018-02-10 15:50:01|41.896642608|-87.690563055|(41.896642608, -87.690563055)|true        |\n",
            "|10300617|HY489191   |2015-11-03 15:00:00|031XX S HALSTED ST   |5114|NON - CRIMINAL|FOID - REVOCATION|RESIDENCE                      |false |false   |0913|009     |11  |60            |26      |1171479     |1884120     |2015|2018-02-10 15:50:01|41.837489008|-87.646264459|(41.837489008, -87.646264459)|true        |\n",
            "|10325994|HY516457   |2015-11-26 23:30:00|001XX W HUBBARD ST   |5093|NON-CRIMINAL  |LOST PASSPORT    |RESTAURANT                     |false |false   |1831|018     |42  |8             |26      |1175301     |1903292     |2015|2018-02-10 15:50:01|41.890013524|-87.631664996|(41.890013524, -87.631664996)|true        |\n",
            "|10157940|HY347539   |2015-07-08 10:30:00|016XX W CHICAGO AVE  |5093|NON-CRIMINAL  |LOST PASSPORT    |STREET                         |false |false   |1215|012     |1   |24            |26      |1165158     |1905410     |2015|2018-02-10 15:50:01|41.896047034|-87.668854221|(41.896047034, -87.668854221)|true        |\n",
            "|10181019|HY369010   |2015-08-01 10:15:00|079XX S KEDZIE AVE   |5114|NON - CRIMINAL|FOID - REVOCATION|RESIDENCE                      |false |false   |0835|008     |18  |70            |26      |1156427     |1851731     |2015|2018-02-10 15:50:01|41.748926157|-87.70236927 |(41.748926157, -87.70236927) |true        |\n",
            "+--------+-----------+-------------------+---------------------+----+--------------+-----------------+-------------------------------+------+--------+----+--------+----+--------------+--------+------------+------------+----+-------------------+------------+-------------+-----------------------------+------------+\n",
            "only showing top 10 rows\n",
            "\n"
          ],
          "name": "stdout"
        }
      ]
    },
    {
      "cell_type": "code",
      "metadata": {
        "colab": {
          "base_uri": "https://localhost:8080/"
        },
        "id": "9iEGLlf_JWUB",
        "outputId": "a3f282c0-729e-4a07-ea2c-d1a67db22a53"
      },
      "source": [
        "print(nc_data.groupBy('Non_Criminal').count().sort('Count').show(truncate = False))"
      ],
      "execution_count": 49,
      "outputs": [
        {
          "output_type": "stream",
          "text": [
            "+------------+-----+\n",
            "|Non_Criminal|count|\n",
            "+------------+-----+\n",
            "|true        |133  |\n",
            "+------------+-----+\n",
            "\n",
            "None\n"
          ],
          "name": "stdout"
        }
      ]
    },
    {
      "cell_type": "markdown",
      "metadata": {
        "id": "q5blWyZzKa-D"
      },
      "source": [
        "**Answer: LOST PASSPORT**"
      ]
    },
    {
      "cell_type": "code",
      "metadata": {
        "colab": {
          "base_uri": "https://localhost:8080/"
        },
        "id": "mlXRaGDkJZWK",
        "outputId": "a017b9dc-4451-4184-e966-fade7f3ae9a9"
      },
      "source": [
        "print(nc_data.groupBy('Description').count().sort(desc('Count')).show(truncate = False))"
      ],
      "execution_count": 51,
      "outputs": [
        {
          "output_type": "stream",
          "text": [
            "+-------------------------------------------+-----+\n",
            "|Description                                |count|\n",
            "+-------------------------------------------+-----+\n",
            "|LOST PASSPORT                              |73   |\n",
            "|FOID - REVOCATION                          |44   |\n",
            "|NOTIFICATION OF CIVIL NO CONTACT ORDER     |5    |\n",
            "|CONCEALED CARRY LICENSE REVOCATION         |4    |\n",
            "|NOTIFICATION OF STALKING - NO CONTACT ORDER|4    |\n",
            "|FOUND PASSPORT                             |2    |\n",
            "|GUN OFFENDER NOTIFICATION-NO CONTACT       |1    |\n",
            "+-------------------------------------------+-----+\n",
            "\n",
            "None\n"
          ],
          "name": "stdout"
        }
      ]
    },
    {
      "cell_type": "markdown",
      "metadata": {
        "id": "l46OEYZsK6SG"
      },
      "source": [
        "**Question: Which Day of the week has most reported crimes**"
      ]
    },
    {
      "cell_type": "code",
      "metadata": {
        "colab": {
          "base_uri": "https://localhost:8080/"
        },
        "id": "bkbQqooSKNNn",
        "outputId": "d60825cf-5767-45cc-e0c3-8f5e02aeaceb"
      },
      "source": [
        "from pyspark.sql.functions import dayofweek,date_format\n",
        "from pyspark.sql.functions import to_date\n",
        "help(date_format)"
      ],
      "execution_count": 72,
      "outputs": [
        {
          "output_type": "stream",
          "text": [
            "Help on function date_format in module pyspark.sql.functions:\n",
            "\n",
            "date_format(date, format)\n",
            "    Converts a date/timestamp/string to a value of string in the format specified by the date\n",
            "    format given by the second argument.\n",
            "    \n",
            "    A pattern could be for instance `dd.MM.yyyy` and could return a string like '18.03.1993'. All\n",
            "    pattern letters of `datetime pattern`_. can be used.\n",
            "    \n",
            "    .. _datetime pattern: https://spark.apache.org/docs/latest/sql-ref-datetime-pattern.html\n",
            "    \n",
            "    .. versionadded:: 1.5.0\n",
            "    \n",
            "    Notes\n",
            "    -----\n",
            "    Whenever possible, use specialized functions like `year`.\n",
            "    \n",
            "    Examples\n",
            "    --------\n",
            "    >>> df = spark.createDataFrame([('2015-04-08',)], ['dt'])\n",
            "    >>> df.select(date_format('dt', 'MM/dd/yyy').alias('date')).collect()\n",
            "    [Row(date='04/08/2015')]\n",
            "\n"
          ],
          "name": "stdout"
        }
      ]
    },
    {
      "cell_type": "code",
      "metadata": {
        "colab": {
          "base_uri": "https://localhost:8080/"
        },
        "id": "tlUMNGyNMLpP",
        "outputId": "fc8b43bf-fd4c-436b-ce88-df7f4ab6ecd3"
      },
      "source": [
        "rc_data = rc_data.withColumn('Only_Date',to_date(col(\"Date\"),\"yyyy-MM-dd HH:mm:ss\"))\n",
        "rc_data.show(5)"
      ],
      "execution_count": 73,
      "outputs": [
        {
          "output_type": "stream",
          "text": [
            "+--------+-----------+-------------------+--------------------+----+------------+--------------------+--------------------+------+--------+----+--------+----+--------------+--------+------------+------------+----+-------------------+------------+-------------+--------------------+----------+\n",
            "|      ID|Case Number|               Date|               Block|IUCR|Primary Type|         Description|Location Description|Arrest|Domestic|Beat|District|Ward|Community Area|FBI Code|X Coordinate|Y Coordinate|Year|         Updated On|    Latitude|    Longitude|            Location| Only_Date|\n",
            "+--------+-----------+-------------------+--------------------+----+------------+--------------------+--------------------+------+--------+----+--------+----+--------------+--------+------------+------------+----+-------------------+------------+-------------+--------------------+----------+\n",
            "|10224738|   HY411648|2015-09-05 13:30:00|     043XX S WOOD ST|0486|     BATTERY|DOMESTIC BATTERY ...|           RESIDENCE| false|    true|0924|     009|  12|            61|     08B|     1165074|     1875917|2015|2018-02-10 15:50:01|41.815117282|-87.669999562|(41.815117282, -8...|2015-09-05|\n",
            "|10224739|   HY411615|2015-09-04 11:30:00| 008XX N CENTRAL AVE|0870|       THEFT|      POCKET-PICKING|             CTA BUS| false|   false|1511|     015|  29|            25|      06|     1138875|     1904869|2015|2018-02-10 15:50:01|41.895080471|-87.765400451|(41.895080471, -8...|2015-09-04|\n",
            "|11646166|   JC213529|2018-09-01 00:01:00|082XX S INGLESIDE...|0810|       THEFT|           OVER $500|           RESIDENCE| false|    true|0631|     006|   8|            44|      06|        null|        null|2018|2019-04-06 16:04:43|        null|         null|                null|2018-09-01|\n",
            "|10224740|   HY411595|2015-09-05 12:45:00|   035XX W BARRY AVE|2023|   NARCOTICS|POSS: HEROIN(BRN/...|            SIDEWALK|  true|   false|1412|     014|  35|            21|      18|     1152037|     1920384|2015|2018-02-10 15:50:01|41.937405765|-87.716649687|(41.937405765, -8...|2015-09-05|\n",
            "|10224741|   HY411610|2015-09-05 13:00:00| 0000X N LARAMIE AVE|0560|     ASSAULT|              SIMPLE|           APARTMENT| false|    true|1522|     015|  28|            25|     08A|     1141706|     1900086|2015|2018-02-10 15:50:01|41.881903443|-87.755121152|(41.881903443, -8...|2015-09-05|\n",
            "+--------+-----------+-------------------+--------------------+----+------------+--------------------+--------------------+------+--------+----+--------+----+--------------+--------+------------+------------+----+-------------------+------------+-------------+--------------------+----------+\n",
            "only showing top 5 rows\n",
            "\n"
          ],
          "name": "stdout"
        }
      ]
    },
    {
      "cell_type": "code",
      "metadata": {
        "colab": {
          "base_uri": "https://localhost:8080/"
        },
        "id": "HM0ffh_lMX6U",
        "outputId": "a9a34a91-6832-4a90-a4df-ddf36da1f31d"
      },
      "source": [
        "rc_data = rc_data.withColumn('DOW',date_format(col(\"Only_Date\"), \"EEEE\"))\n",
        "rc_data.show(5, truncate = False)"
      ],
      "execution_count": 74,
      "outputs": [
        {
          "output_type": "stream",
          "text": [
            "+--------+-----------+-------------------+---------------------+----+------------+-----------------------+--------------------+------+--------+----+--------+----+--------------+--------+------------+------------+----+-------------------+------------+-------------+-----------------------------+----------+--------+\n",
            "|ID      |Case Number|Date               |Block                |IUCR|Primary Type|Description            |Location Description|Arrest|Domestic|Beat|District|Ward|Community Area|FBI Code|X Coordinate|Y Coordinate|Year|Updated On         |Latitude    |Longitude    |Location                     |Only_Date |DOW     |\n",
            "+--------+-----------+-------------------+---------------------+----+------------+-----------------------+--------------------+------+--------+----+--------+----+--------------+--------+------------+------------+----+-------------------+------------+-------------+-----------------------------+----------+--------+\n",
            "|10224738|HY411648   |2015-09-05 13:30:00|043XX S WOOD ST      |0486|BATTERY     |DOMESTIC BATTERY SIMPLE|RESIDENCE           |false |true    |0924|009     |12  |61            |08B     |1165074     |1875917     |2015|2018-02-10 15:50:01|41.815117282|-87.669999562|(41.815117282, -87.669999562)|2015-09-05|Saturday|\n",
            "|10224739|HY411615   |2015-09-04 11:30:00|008XX N CENTRAL AVE  |0870|THEFT       |POCKET-PICKING         |CTA BUS             |false |false   |1511|015     |29  |25            |06      |1138875     |1904869     |2015|2018-02-10 15:50:01|41.895080471|-87.765400451|(41.895080471, -87.765400451)|2015-09-04|Friday  |\n",
            "|11646166|JC213529   |2018-09-01 00:01:00|082XX S INGLESIDE AVE|0810|THEFT       |OVER $500              |RESIDENCE           |false |true    |0631|006     |8   |44            |06      |null        |null        |2018|2019-04-06 16:04:43|null        |null         |null                         |2018-09-01|Saturday|\n",
            "|10224740|HY411595   |2015-09-05 12:45:00|035XX W BARRY AVE    |2023|NARCOTICS   |POSS: HEROIN(BRN/TAN)  |SIDEWALK            |true  |false   |1412|014     |35  |21            |18      |1152037     |1920384     |2015|2018-02-10 15:50:01|41.937405765|-87.716649687|(41.937405765, -87.716649687)|2015-09-05|Saturday|\n",
            "|10224741|HY411610   |2015-09-05 13:00:00|0000X N LARAMIE AVE  |0560|ASSAULT     |SIMPLE                 |APARTMENT           |false |true    |1522|015     |28  |25            |08A     |1141706     |1900086     |2015|2018-02-10 15:50:01|41.881903443|-87.755121152|(41.881903443, -87.755121152)|2015-09-05|Saturday|\n",
            "+--------+-----------+-------------------+---------------------+----+------------+-----------------------+--------------------+------+--------+----+--------+----+--------------+--------+------------+------------+----+-------------------+------------+-------------+-----------------------------+----------+--------+\n",
            "only showing top 5 rows\n",
            "\n"
          ],
          "name": "stdout"
        }
      ]
    },
    {
      "cell_type": "code",
      "metadata": {
        "colab": {
          "base_uri": "https://localhost:8080/"
        },
        "id": "TYMa7sHZNkup",
        "outputId": "bc849a1d-2373-4c4e-9a1c-994cb0bcb60f"
      },
      "source": [
        "rc_data = rc_data.withColumn(\"Non_Criminal\",col(\"Primary Type\").rlike(\"NON\"))\n",
        "c_data = rc_data.filter(rc_data[\"Non_Criminal\"]== False)\n",
        "c_data.show()"
      ],
      "execution_count": 75,
      "outputs": [
        {
          "output_type": "stream",
          "text": [
            "+--------+-----------+-------------------+--------------------+----+------------------+--------------------+--------------------+------+--------+----+--------+----+--------------+--------+------------+------------+----+-------------------+------------+-------------+--------------------+----------+---------+------------+\n",
            "|      ID|Case Number|               Date|               Block|IUCR|      Primary Type|         Description|Location Description|Arrest|Domestic|Beat|District|Ward|Community Area|FBI Code|X Coordinate|Y Coordinate|Year|         Updated On|    Latitude|    Longitude|            Location| Only_Date|      DOW|Non_Criminal|\n",
            "+--------+-----------+-------------------+--------------------+----+------------------+--------------------+--------------------+------+--------+----+--------+----+--------------+--------+------------+------------+----+-------------------+------------+-------------+--------------------+----------+---------+------------+\n",
            "|10224738|   HY411648|2015-09-05 13:30:00|     043XX S WOOD ST|0486|           BATTERY|DOMESTIC BATTERY ...|           RESIDENCE| false|    true|0924|     009|  12|            61|     08B|     1165074|     1875917|2015|2018-02-10 15:50:01|41.815117282|-87.669999562|(41.815117282, -8...|2015-09-05| Saturday|       false|\n",
            "|10224739|   HY411615|2015-09-04 11:30:00| 008XX N CENTRAL AVE|0870|             THEFT|      POCKET-PICKING|             CTA BUS| false|   false|1511|     015|  29|            25|      06|     1138875|     1904869|2015|2018-02-10 15:50:01|41.895080471|-87.765400451|(41.895080471, -8...|2015-09-04|   Friday|       false|\n",
            "|11646166|   JC213529|2018-09-01 00:01:00|082XX S INGLESIDE...|0810|             THEFT|           OVER $500|           RESIDENCE| false|    true|0631|     006|   8|            44|      06|        null|        null|2018|2019-04-06 16:04:43|        null|         null|                null|2018-09-01| Saturday|       false|\n",
            "|10224740|   HY411595|2015-09-05 12:45:00|   035XX W BARRY AVE|2023|         NARCOTICS|POSS: HEROIN(BRN/...|            SIDEWALK|  true|   false|1412|     014|  35|            21|      18|     1152037|     1920384|2015|2018-02-10 15:50:01|41.937405765|-87.716649687|(41.937405765, -8...|2015-09-05| Saturday|       false|\n",
            "|10224741|   HY411610|2015-09-05 13:00:00| 0000X N LARAMIE AVE|0560|           ASSAULT|              SIMPLE|           APARTMENT| false|    true|1522|     015|  28|            25|     08A|     1141706|     1900086|2015|2018-02-10 15:50:01|41.881903443|-87.755121152|(41.881903443, -8...|2015-09-05| Saturday|       false|\n",
            "|10224742|   HY411435|2015-09-05 10:55:00| 082XX S LOOMIS BLVD|0610|          BURGLARY|      FORCIBLE ENTRY|           RESIDENCE| false|   false|0614|     006|  21|            71|      05|     1168430|     1850165|2015|2018-02-10 15:50:01|41.744378879|-87.658430635|(41.744378879, -8...|2015-09-05| Saturday|       false|\n",
            "|10224743|   HY411629|2015-09-04 18:00:00|021XX W CHURCHILL ST|0620|          BURGLARY|      UNLAWFUL ENTRY|    RESIDENCE-GARAGE| false|   false|1434|     014|  32|            24|      05|     1161628|     1912157|2015|2018-02-10 15:50:01|41.914635603|-87.681630909|(41.914635603, -8...|2015-09-04|   Friday|       false|\n",
            "|10224744|   HY411605|2015-09-05 13:00:00|   025XX W CERMAK RD|0860|             THEFT|        RETAIL THEFT|  GROCERY FOOD STORE|  true|   false|1034|     010|  25|            31|      06|     1159734|     1889313|2015|2015-09-17 11:37:18|41.851988885|-87.689219118|(41.851988885, -8...|2015-09-05| Saturday|       false|\n",
            "|10224745|   HY411654|2015-09-05 11:30:00|031XX W WASHINGTO...|0320|           ROBBERY|STRONGARM - NO WE...|              STREET| false|    true|1222|     012|  27|            27|      03|     1155536|     1900515|2015|2018-02-10 15:50:01| 41.88281374|-87.704325717|(41.88281374, -87...|2015-09-05| Saturday|       false|\n",
            "|11645836|   JC212333|2016-05-01 00:25:00| 055XX S ROCKWELL ST|1153|DECEPTIVE PRACTICE|FINANCIAL IDENTIT...|                null| false|   false|0824|     008|  15|            63|      11|        null|        null|2016|2019-04-06 16:04:43|        null|         null|                null|2016-05-01|   Sunday|       false|\n",
            "|10224746|   HY411662|2015-09-05 14:00:00|  071XX S PULASKI RD|0820|             THEFT|      $500 AND UNDER|PARKING LOT/GARAG...| false|   false|0833|     008|  13|            65|      06|     1150938|     1857056|2015|2018-02-10 15:50:01|41.763647552|-87.722344693|(41.763647552, -8...|2015-09-05| Saturday|       false|\n",
            "|10224749|   HY411626|2015-09-05 11:00:00|052XX N MILWAUKEE...|0460|           BATTERY|              SIMPLE|  SMALL RETAIL STORE| false|   false|1623|     016|  45|            11|     08B|     1137969|     1934340|2015|2018-02-10 15:50:01|41.975968415|-87.768014257|(41.975968415, -8...|2015-09-05| Saturday|       false|\n",
            "|10224750|   HY411632|2015-09-05 03:00:00|    0000X W 103RD ST|2820|     OTHER OFFENSE|    TELEPHONE THREAT|           APARTMENT| false|    true|0512|     005|  34|            49|      26|     1177871|     1836676|2015|2018-02-10 15:50:01|41.707154919|-87.624244993|(41.707154919, -8...|2015-09-05| Saturday|       false|\n",
            "|10224751|   HY411566|2015-09-05 12:50:00|     013XX E 47TH ST|0486|           BATTERY|DOMESTIC BATTERY ...|              STREET| false|    true|0222|     002|   4|            39|     08B|     1185907|     1874105|2015|2018-02-10 15:50:01|41.809678314|-87.593638934|(41.809678314, -8...|2015-09-05| Saturday|       false|\n",
            "|10224752|   HY411601|2015-09-03 13:00:00| 020XX W SCHILLER ST|0810|             THEFT|           OVER $500|              STREET| false|   false|1424|     014|   1|            24|      06|     1162574|     1909428|2015|2018-02-10 15:50:01|41.907127255|-87.678232016|(41.907127255, -8...|2015-09-03| Thursday|       false|\n",
            "|10224753|   HY411489|2015-09-05 11:45:00|  080XX S JUSTINE ST|0497|           BATTERY|AGGRAVATED DOMEST...|           APARTMENT| false|   false|0612|     006|  21|            71|     04B|     1167400|     1851512|2015|2018-02-10 15:50:01|41.748097343|-87.662166183|(41.748097343, -8...|2015-09-05| Saturday|       false|\n",
            "|10224754|   HY411656|2015-09-05 13:30:00|007XX N LEAMINGTO...|1320|   CRIMINAL DAMAGE|          TO VEHICLE|              STREET| false|   false|1531|     015|  28|            25|      14|     1141889|     1904448|2015|2018-02-10 15:50:01|41.893869916|-87.754341096|(41.893869916, -8...|2015-09-05| Saturday|       false|\n",
            "|10224756|   HY410094|2015-07-08 00:00:00|103XX S TORRENCE AVE|0620|          BURGLARY|      UNLAWFUL ENTRY|               OTHER| false|   false|0434|     004|  10|            51|      05|     1195508|     1836950|2015|2018-02-10 15:50:01|41.707490122|-87.559650325|(41.707490122, -8...|2015-07-08|Wednesday|       false|\n",
            "|10224757|   HY411388|2015-09-05 09:55:00|  088XX S PAULINA ST|0610|          BURGLARY|      FORCIBLE ENTRY|           RESIDENCE|  true|   false|2221|     022|  21|            71|      05|     1166554|     1846067|2015|2018-02-10 15:50:01|41.733173536|-87.665421067|(41.733173536, -8...|2015-09-05| Saturday|       false|\n",
            "|10224758|   HY411568|2015-09-05 12:35:00|    059XX W GRACE ST|0486|           BATTERY|DOMESTIC BATTERY ...|              STREET| false|    true|1633|     016|  38|            15|     08B|     1136014|     1924656|2015|2018-02-10 15:50:01|41.949429769|-87.775435529|(41.949429769, -8...|2015-09-05| Saturday|       false|\n",
            "+--------+-----------+-------------------+--------------------+----+------------------+--------------------+--------------------+------+--------+----+--------+----+--------------+--------+------------+------------+----+-------------------+------------+-------------+--------------------+----------+---------+------------+\n",
            "only showing top 20 rows\n",
            "\n"
          ],
          "name": "stdout"
        }
      ]
    },
    {
      "cell_type": "markdown",
      "metadata": {
        "id": "WRl0B7FmQIVd"
      },
      "source": [
        "**Answer: Friday**"
      ]
    },
    {
      "cell_type": "code",
      "metadata": {
        "colab": {
          "base_uri": "https://localhost:8080/"
        },
        "id": "O7CFQbYuOtHm",
        "outputId": "3811c1b7-0978-4a42-c5e1-ef40731b869b"
      },
      "source": [
        "print(c_data.groupBy('DOW').count().sort(desc('Count')).show(truncate = False))"
      ],
      "execution_count": 77,
      "outputs": [
        {
          "output_type": "stream",
          "text": [
            "+---------+------+\n",
            "|DOW      |count |\n",
            "+---------+------+\n",
            "|Friday   |121229|\n",
            "|Saturday |117740|\n",
            "|Monday   |115763|\n",
            "|Thursday |115484|\n",
            "|Tuesday  |114734|\n",
            "|Wednesday|113951|\n",
            "|Sunday   |113053|\n",
            "+---------+------+\n",
            "\n",
            "None\n"
          ],
          "name": "stdout"
        }
      ]
    }
  ]
}