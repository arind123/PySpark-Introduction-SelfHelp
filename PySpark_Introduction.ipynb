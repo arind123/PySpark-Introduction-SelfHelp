{
  "nbformat": 4,
  "nbformat_minor": 0,
  "metadata": {
    "colab": {
      "name": "PySpark_Introduction.ipynb",
      "provenance": [],
      "collapsed_sections": []
    },
    "kernelspec": {
      "name": "python3",
      "display_name": "Python 3"
    },
    "language_info": {
      "name": "python"
    }
  },
  "cells": [
    {
      "cell_type": "markdown",
      "metadata": {
        "id": "SGPZ9Drhvh6u"
      },
      "source": [
        "**Install PySpark**"
      ]
    },
    {
      "cell_type": "code",
      "metadata": {
        "id": "69iZB8dLtjoj"
      },
      "source": [
        "!pip install pyspark "
      ],
      "execution_count": 8,
      "outputs": []
    },
    {
      "cell_type": "markdown",
      "metadata": {
        "id": "_INiDVp3vv32"
      },
      "source": [
        "**Start a SparkSession**"
      ]
    },
    {
      "cell_type": "code",
      "metadata": {
        "colab": {
          "base_uri": "https://localhost:8080/",
          "height": 218
        },
        "id": "up68PSCNvB9Z",
        "outputId": "febe6d61-4955-407a-ff59-781c45a0c01a"
      },
      "source": [
        "from pyspark.sql import SparkSession\n",
        "spark = SparkSession.builder.appName('Practise_1').getOrCreate()\n",
        "spark"
      ],
      "execution_count": 11,
      "outputs": [
        {
          "output_type": "execute_result",
          "data": {
            "text/html": [
              "\n",
              "            <div>\n",
              "                <p><b>SparkSession - in-memory</b></p>\n",
              "                \n",
              "        <div>\n",
              "            <p><b>SparkContext</b></p>\n",
              "\n",
              "            <p><a href=\"http://f44e115052e2:4040\">Spark UI</a></p>\n",
              "\n",
              "            <dl>\n",
              "              <dt>Version</dt>\n",
              "                <dd><code>v3.1.2</code></dd>\n",
              "              <dt>Master</dt>\n",
              "                <dd><code>local[*]</code></dd>\n",
              "              <dt>AppName</dt>\n",
              "                <dd><code>Practise_1</code></dd>\n",
              "            </dl>\n",
              "        </div>\n",
              "        \n",
              "            </div>\n",
              "        "
            ],
            "text/plain": [
              "<pyspark.sql.session.SparkSession at 0x7f9a59087850>"
            ]
          },
          "metadata": {
            "tags": []
          },
          "execution_count": 11
        }
      ]
    },
    {
      "cell_type": "markdown",
      "metadata": {
        "id": "fMV9zPVrwvmf"
      },
      "source": [
        "**Read a dataset, pyspark has options to csv, txt, json and many more**"
      ]
    },
    {
      "cell_type": "code",
      "metadata": {
        "id": "VKf8FZN2v7lc"
      },
      "source": [
        "df_spark = spark.read.csv('/content/drive/MyDrive/Colab Notebooks/PySpark/PySpark_data.csv', header = True, inferSchema = True)"
      ],
      "execution_count": 27,
      "outputs": []
    },
    {
      "cell_type": "markdown",
      "metadata": {
        "id": "NvYgjaa9x9mI"
      },
      "source": [
        "**DataFrame Info**"
      ]
    },
    {
      "cell_type": "code",
      "metadata": {
        "colab": {
          "base_uri": "https://localhost:8080/"
        },
        "id": "MFUUTkpowuSq",
        "outputId": "60a38ae6-4b87-4062-95a5-09ec7a9b2cda"
      },
      "source": [
        "df_spark.printSchema()"
      ],
      "execution_count": 28,
      "outputs": [
        {
          "output_type": "stream",
          "text": [
            "root\n",
            " |-- User_ID: integer (nullable = true)\n",
            " |-- Product_ID: string (nullable = true)\n",
            " |-- Gender: string (nullable = true)\n",
            " |-- Age: string (nullable = true)\n",
            " |-- Occupation: integer (nullable = true)\n",
            " |-- City_Category: string (nullable = true)\n",
            " |-- Stay_In_Current_City_Years: string (nullable = true)\n",
            " |-- Marital_Status: integer (nullable = true)\n",
            " |-- Product_Category_1: integer (nullable = true)\n",
            " |-- Product_Category_2: double (nullable = true)\n",
            " |-- Product_Category_3: double (nullable = true)\n",
            " |-- Purchase: integer (nullable = true)\n",
            "\n"
          ],
          "name": "stdout"
        }
      ]
    },
    {
      "cell_type": "markdown",
      "metadata": {
        "id": "n_bPE5Bs0D99"
      },
      "source": [
        "**Print top 20 data .show() helps with it**"
      ]
    },
    {
      "cell_type": "code",
      "metadata": {
        "colab": {
          "base_uri": "https://localhost:8080/"
        },
        "id": "hax9Nxygw_h5",
        "outputId": "6c627d04-b1ef-4205-8ff4-a7de961bad31"
      },
      "source": [
        "print(df_spark.show())\n",
        "print(df_spark.columns)"
      ],
      "execution_count": 30,
      "outputs": [
        {
          "output_type": "stream",
          "text": [
            "+-------+----------+------+-----+----------+-------------+--------------------------+--------------+------------------+------------------+------------------+--------+\n",
            "|User_ID|Product_ID|Gender|  Age|Occupation|City_Category|Stay_In_Current_City_Years|Marital_Status|Product_Category_1|Product_Category_2|Product_Category_3|Purchase|\n",
            "+-------+----------+------+-----+----------+-------------+--------------------------+--------------+------------------+------------------+------------------+--------+\n",
            "|1000001| P00069042|     F| 0-17|        10|            A|                         2|             0|                 3|              null|              null|    8370|\n",
            "|1000001| P00248942|     F| 0-17|        10|            A|                         2|             0|                 1|               6.0|              14.0|   15200|\n",
            "|1000001| P00087842|     F| 0-17|        10|            A|                         2|             0|                12|              null|              null|    1422|\n",
            "|1000001| P00085442|     F| 0-17|        10|            A|                         2|             0|                12|              14.0|              null|    1057|\n",
            "|1000002| P00285442|     M|  55+|        16|            C|                        4+|             0|                 8|              null|              null|    7969|\n",
            "|1000003| P00193542|     M|26-35|        15|            A|                         3|             0|                 1|               2.0|              null|   15227|\n",
            "|1000004| P00184942|     M|46-50|         7|            B|                         2|             1|                 1|               8.0|              17.0|   19215|\n",
            "|1000004| P00346142|     M|46-50|         7|            B|                         2|             1|                 1|              15.0|              null|   15854|\n",
            "|1000004|  P0097242|     M|46-50|         7|            B|                         2|             1|                 1|              16.0|              null|   15686|\n",
            "|1000005| P00274942|     M|26-35|        20|            A|                         1|             1|                 8|              null|              null|    7871|\n",
            "|1000005| P00251242|     M|26-35|        20|            A|                         1|             1|                 5|              11.0|              null|    5254|\n",
            "|1000005| P00014542|     M|26-35|        20|            A|                         1|             1|                 8|              null|              null|    3957|\n",
            "|1000005| P00031342|     M|26-35|        20|            A|                         1|             1|                 8|              null|              null|    6073|\n",
            "|1000005| P00145042|     M|26-35|        20|            A|                         1|             1|                 1|               2.0|               5.0|   15665|\n",
            "|1000006| P00231342|     F|51-55|         9|            A|                         1|             0|                 5|               8.0|              14.0|    5378|\n",
            "|1000006| P00190242|     F|51-55|         9|            A|                         1|             0|                 4|               5.0|              null|    2079|\n",
            "|1000006|  P0096642|     F|51-55|         9|            A|                         1|             0|                 2|               3.0|               4.0|   13055|\n",
            "|1000006| P00058442|     F|51-55|         9|            A|                         1|             0|                 5|              14.0|              null|    8851|\n",
            "|1000007| P00036842|     M|36-45|         1|            B|                         1|             1|                 1|              14.0|              16.0|   11788|\n",
            "|1000008| P00249542|     M|26-35|        12|            C|                        4+|             1|                 1|               5.0|              15.0|   19614|\n",
            "+-------+----------+------+-----+----------+-------------+--------------------------+--------------+------------------+------------------+------------------+--------+\n",
            "only showing top 20 rows\n",
            "\n",
            "None\n",
            "['User_ID', 'Product_ID', 'Gender', 'Age', 'Occupation', 'City_Category', 'Stay_In_Current_City_Years', 'Marital_Status', 'Product_Category_1', 'Product_Category_2', 'Product_Category_3', 'Purchase']\n"
          ],
          "name": "stdout"
        }
      ]
    },
    {
      "cell_type": "markdown",
      "metadata": {
        "id": "b13dv7-n0zvo"
      },
      "source": [
        "**Select columns from a dataframe**"
      ]
    },
    {
      "cell_type": "code",
      "metadata": {
        "colab": {
          "base_uri": "https://localhost:8080/"
        },
        "id": "TnLqkAajyx7H",
        "outputId": "68a430a9-559e-42d0-fce3-a5c023441ea9"
      },
      "source": [
        "df_spark.select(['User_ID','Product_ID']).show()"
      ],
      "execution_count": 32,
      "outputs": [
        {
          "output_type": "stream",
          "text": [
            "+-------+----------+\n",
            "|User_ID|Product_ID|\n",
            "+-------+----------+\n",
            "|1000001| P00069042|\n",
            "|1000001| P00248942|\n",
            "|1000001| P00087842|\n",
            "|1000001| P00085442|\n",
            "|1000002| P00285442|\n",
            "|1000003| P00193542|\n",
            "|1000004| P00184942|\n",
            "|1000004| P00346142|\n",
            "|1000004|  P0097242|\n",
            "|1000005| P00274942|\n",
            "|1000005| P00251242|\n",
            "|1000005| P00014542|\n",
            "|1000005| P00031342|\n",
            "|1000005| P00145042|\n",
            "|1000006| P00231342|\n",
            "|1000006| P00190242|\n",
            "|1000006|  P0096642|\n",
            "|1000006| P00058442|\n",
            "|1000007| P00036842|\n",
            "|1000008| P00249542|\n",
            "+-------+----------+\n",
            "only showing top 20 rows\n",
            "\n"
          ],
          "name": "stdout"
        }
      ]
    },
    {
      "cell_type": "markdown",
      "metadata": {
        "id": "bktn-0Vy1wcf"
      },
      "source": [
        "**Data Types**"
      ]
    },
    {
      "cell_type": "code",
      "metadata": {
        "colab": {
          "base_uri": "https://localhost:8080/"
        },
        "id": "f9ETQoWp1FZ2",
        "outputId": "8ede3661-c6c7-415a-9455-00f413f605a1"
      },
      "source": [
        "print(df_spark.dtypes)\n",
        "print(df_spark.describe().show())\n"
      ],
      "execution_count": 34,
      "outputs": [
        {
          "output_type": "stream",
          "text": [
            "[('User_ID', 'int'), ('Product_ID', 'string'), ('Gender', 'string'), ('Age', 'string'), ('Occupation', 'int'), ('City_Category', 'string'), ('Stay_In_Current_City_Years', 'string'), ('Marital_Status', 'int'), ('Product_Category_1', 'int'), ('Product_Category_2', 'double'), ('Product_Category_3', 'double'), ('Purchase', 'int')]\n",
            "+-------+------------------+----------+------+------+-----------------+-------------+--------------------------+-------------------+------------------+------------------+------------------+-----------------+\n",
            "|summary|           User_ID|Product_ID|Gender|   Age|       Occupation|City_Category|Stay_In_Current_City_Years|     Marital_Status|Product_Category_1|Product_Category_2|Product_Category_3|         Purchase|\n",
            "+-------+------------------+----------+------+------+-----------------+-------------+--------------------------+-------------------+------------------+------------------+------------------+-----------------+\n",
            "|  count|            550068|    550068|550068|550068|           550068|       550068|                    550068|             550068|            550068|            376430|            166821|           550068|\n",
            "|   mean|1003028.8424013031|      null|  null|  null|8.076706879876669|         null|         1.468494139793958|0.40965298835780306| 5.404270017525106| 9.842329251122386|12.668243206790512|9263.968712959126|\n",
            "| stddev| 1727.591585530636|      null|  null|  null|6.522660487341751|         null|        0.9890866807573153|0.49177012631732797|3.9362113692013727| 5.086589648693497| 4.125337631575269|5023.065393820567|\n",
            "|    min|           1000001| P00000142|     F|  0-17|                0|            A|                         0|                  0|                 1|               2.0|               3.0|               12|\n",
            "|    max|           1006040|  P0099942|     M|   55+|               20|            C|                        4+|                  1|                20|              18.0|              18.0|            23961|\n",
            "+-------+------------------+----------+------+------+-----------------+-------------+--------------------------+-------------------+------------------+------------------+------------------+-----------------+\n",
            "\n",
            "None\n"
          ],
          "name": "stdout"
        }
      ]
    },
    {
      "cell_type": "markdown",
      "metadata": {
        "id": "9l8RiKa12Xmu"
      },
      "source": [
        "**Adding Columns in python dataframe**: \n",
        "df_spark.withColumn('column name', formula for new column)   **NOT AN INPLACE OPERATION**"
      ]
    },
    {
      "cell_type": "markdown",
      "metadata": {
        "id": "4HAwe4qk3E5L"
      },
      "source": [
        "**Drop Columns from python dataframe**: df_spark.drop(['column names']) **NOT AN INPLACE OPERATION**"
      ]
    },
    {
      "cell_type": "markdown",
      "metadata": {
        "id": "jhDYVh5G3uda"
      },
      "source": [
        "**Rename Columns :** df_spark.withColumns.Renamed('Actual Name', 'New Name') **NOT AN INPLACE OPERATION**"
      ]
    },
    {
      "cell_type": "code",
      "metadata": {
        "id": "r0l0zhOS13jm"
      },
      "source": [
        ""
      ],
      "execution_count": null,
      "outputs": []
    }
  ]
}